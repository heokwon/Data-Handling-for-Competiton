{
  "nbformat": 4,
  "nbformat_minor": 0,
  "metadata": {
    "colab": {
      "provenance": [],
      "collapsed_sections": [
        "seLbMR4g1wnf",
        "pv7Vnrox1zP9",
        "z7Mel2JxDopT",
        "Ka5-7l4JN0qw",
        "7GsmVTwRN56m",
        "N1l2yKwhQrFS",
        "B5bnUMcsTMmq"
      ],
      "include_colab_link": true
    },
    "kernelspec": {
      "name": "python3",
      "display_name": "Python 3"
    },
    "language_info": {
      "name": "python"
    }
  },
  "cells": [
    {
      "cell_type": "markdown",
      "metadata": {
        "id": "view-in-github",
        "colab_type": "text"
      },
      "source": [
        "<a href=\"https://colab.research.google.com/github/heokwon/Data-Handling-for-segmentation/blob/main/Background0825.ipynb\" target=\"_parent\"><img src=\"https://colab.research.google.com/assets/colab-badge.svg\" alt=\"Open In Colab\"/></a>"
      ]
    },
    {
      "cell_type": "code",
      "source": [
        "!gdown \n",
        "!unzip /content/Crop_2048x2048_Multi.zip"
      ],
      "metadata": {
        "id": "WIn32bS9wLCi"
      },
      "execution_count": null,
      "outputs": []
    },
    {
      "cell_type": "code",
      "source": [
        "import os\n",
        "import shutil\n",
        "import numpy as np\n",
        "from PIL import Image\n",
        "import matplotlib.pyplot as plt\n",
        "from google.colab import drive\n",
        "\n",
        "drive.mount('/content/drive')"
      ],
      "metadata": {
        "colab": {
          "base_uri": "https://localhost:8080/"
        },
        "id": "iwlRGpWmwz9p",
        "outputId": "41ef7e12-fc0c-4931-dc39-7fd6266a04d9"
      },
      "execution_count": null,
      "outputs": [
        {
          "output_type": "stream",
          "name": "stdout",
          "text": [
            "Mounted at /content/drive\n"
          ]
        }
      ]
    },
    {
      "cell_type": "markdown",
      "source": [
        "## jpg2png"
      ],
      "metadata": {
        "id": "seLbMR4g1wnf"
      }
    },
    {
      "cell_type": "code",
      "source": [
        "!mv /content/crop_dataset/images /content/crop_dataset/images_jpg\n",
        "!mkdir /content/crop_dataset/images"
      ],
      "metadata": {
        "id": "eOS5k8moyGdk"
      },
      "execution_count": null,
      "outputs": []
    },
    {
      "cell_type": "code",
      "source": [
        "jpg_src='/content/crop_dataset/images_jpg/'\n",
        "png_dir='/content/crop_dataset/images/'\n",
        "for jpg in os.listdir(jpg_src):\n",
        "    jpg_dir=os.path.join(jpg_src,jpg)\n",
        "    jpg2png=Image.open(jpg_dir)\n",
        "    jpg2png.save(png_dir+jpg[:-4]+'.png')"
      ],
      "metadata": {
        "id": "USqVZKekxFfl"
      },
      "execution_count": null,
      "outputs": []
    },
    {
      "cell_type": "code",
      "source": [
        "len(os.listdir(png_dir))"
      ],
      "metadata": {
        "colab": {
          "base_uri": "https://localhost:8080/"
        },
        "id": "rpM2aDmjzMXJ",
        "outputId": "2e31074d-94be-41a4-aebe-60efc627b878"
      },
      "execution_count": null,
      "outputs": [
        {
          "output_type": "execute_result",
          "data": {
            "text/plain": [
              "351"
            ]
          },
          "metadata": {},
          "execution_count": 7
        }
      ]
    },
    {
      "cell_type": "code",
      "source": [
        "!mkdir 1\n",
        "!mkdir 2\n",
        "!mkdir 3\n",
        "!mkdir 4\n",
        "!mkdir 5"
      ],
      "metadata": {
        "id": "W_RUw8RwzPm1"
      },
      "execution_count": null,
      "outputs": []
    },
    {
      "cell_type": "code",
      "source": [
        "!rm -rf /content/crop_dataset/images_jpg"
      ],
      "metadata": {
        "id": "-LlxTWFazixF"
      },
      "execution_count": null,
      "outputs": []
    },
    {
      "cell_type": "markdown",
      "source": [
        "## divide labels ( kidney , prostate , largeintestine , spleen , lung )"
      ],
      "metadata": {
        "id": "pv7Vnrox1zP9"
      }
    },
    {
      "cell_type": "code",
      "source": [
        "!mkdir /content/1/images\n",
        "!mkdir /content/1/labels\n",
        "!mkdir /content/2/images\n",
        "!mkdir /content/2/labels\n",
        "!mkdir /content/3/images\n",
        "!mkdir /content/3/labels\n",
        "!mkdir /content/4/images\n",
        "!mkdir /content/4/labels\n",
        "!mkdir /content/5/images\n",
        "!mkdir /content/5/labels"
      ],
      "metadata": {
        "id": "EpWcQfPZ2gSc"
      },
      "execution_count": null,
      "outputs": []
    },
    {
      "cell_type": "code",
      "source": [
        "mask_src='/content/crop_dataset/masks/'\n",
        "kidney_labels='/content/1/labels/'\n",
        "prostate_labels='/content/2/labels/'\n",
        "largeintestine_labels='/content/3/labels/'\n",
        "spleen_labels='/content/4/labels/'\n",
        "lung_labels='/content/5/labels/'"
      ],
      "metadata": {
        "id": "3ef1uSYb0SxN"
      },
      "execution_count": null,
      "outputs": []
    },
    {
      "cell_type": "code",
      "source": [
        "for mask in os.listdir(mask_src):\n",
        "    mask_dir=os.path.join(mask_src,mask)\n",
        "    labels=Image.open(mask_dir)\n",
        "    labels=np.array(labels)\n",
        "\n",
        "    if labels.max()==1:\n",
        "      shutil.copy(mask_src+mask,kidney_labels+mask)\n",
        "    elif labels.max()==2:\n",
        "      shutil.copy(mask_src+mask,prostate_labels+mask)\n",
        "    elif labels.max()==3:\n",
        "      shutil.copy(mask_src+mask,largeintestine_labels+mask)\n",
        "    elif labels.max()==4:\n",
        "      shutil.copy(mask_src+mask,spleen_labels+mask)\n",
        "    elif labels.max()==5:\n",
        "      shutil.copy(mask_src+mask,lung_labels+mask)"
      ],
      "metadata": {
        "id": "EXgYmXL30L7t"
      },
      "execution_count": null,
      "outputs": []
    },
    {
      "cell_type": "code",
      "source": [
        "len(os.listdir(kidney_labels)),len(os.listdir(prostate_labels)),len(os.listdir(largeintestine_labels)),len(os.listdir(spleen_labels)),len(os.listdir(lung_labels))"
      ],
      "metadata": {
        "colab": {
          "base_uri": "https://localhost:8080/"
        },
        "id": "hmkk9wvF3F0F",
        "outputId": "4d8cf17f-3817-4ddb-8e7f-810cd7281fc6"
      },
      "execution_count": null,
      "outputs": [
        {
          "output_type": "execute_result",
          "data": {
            "text/plain": [
              "(99, 93, 58, 53, 48)"
            ]
          },
          "metadata": {},
          "execution_count": 13
        }
      ]
    },
    {
      "cell_type": "code",
      "source": [
        "def move_image(img_src,mask_src,img_des):\n",
        "    for img,mask in zip(os.listdir(img_src),os.listdir(mask_src)):\n",
        "        img=mask\n",
        "        shutil.copy(img_src+img,img_des+img)   "
      ],
      "metadata": {
        "id": "co8YnL0Z4RYj"
      },
      "execution_count": null,
      "outputs": []
    },
    {
      "cell_type": "code",
      "source": [
        "img_src='/content/crop_dataset/images/'\n",
        "move_image(img_src,kidney_labels,'/content/1/images/')\n",
        "move_image(img_src,prostate_labels,'/content/2/images/')\n",
        "move_image(img_src,largeintestine_labels,'/content/3/images/')\n",
        "move_image(img_src,spleen_labels,'/content/4/images/')\n",
        "move_image(img_src,lung_labels,'/content/5/images/')"
      ],
      "metadata": {
        "id": "7ovRo7UR6prs"
      },
      "execution_count": null,
      "outputs": []
    },
    {
      "cell_type": "code",
      "source": [
        "len(os.listdir('/content/1/images/')),len(os.listdir('/content/2/images/')),len(os.listdir('/content/3/images/')),len(os.listdir('/content/4/images/')),len(os.listdir('/content/5/images/'))"
      ],
      "metadata": {
        "colab": {
          "base_uri": "https://localhost:8080/"
        },
        "id": "PaEYd7Ys883o",
        "outputId": "84ee7502-3813-4c5d-e8db-895cb11e27d7"
      },
      "execution_count": null,
      "outputs": [
        {
          "output_type": "execute_result",
          "data": {
            "text/plain": [
              "(99, 93, 58, 53, 48)"
            ]
          },
          "metadata": {},
          "execution_count": 16
        }
      ]
    },
    {
      "cell_type": "markdown",
      "source": [
        "## Crop 256x256"
      ],
      "metadata": {
        "id": "z7Mel2JxDopT"
      }
    },
    {
      "cell_type": "code",
      "source": [
        "!mkdir /content/1/crop_images\n",
        "!mkdir /content/1/crop_labels\n",
        "!mkdir /content/2/crop_images\n",
        "!mkdir /content/2/crop_labels\n",
        "!mkdir /content/3/crop_images\n",
        "!mkdir /content/3/crop_labels\n",
        "!mkdir /content/4/crop_images\n",
        "!mkdir /content/4/crop_labels\n",
        "!mkdir /content/5/crop_images\n",
        "!mkdir /content/5/crop_labels"
      ],
      "metadata": {
        "id": "5C0fr4tqBBg-"
      },
      "execution_count": null,
      "outputs": []
    },
    {
      "cell_type": "code",
      "source": [
        "from itertools import product\n",
        "def crop_img(src,des,d):  \n",
        "    for img in os.listdir(src):\n",
        "        name = img.split('.')[0]\n",
        "        img_dir=os.path.join(src,img)\n",
        "        img_crop=Image.open(img_dir)\n",
        "        w,h = img_crop.size\n",
        "        \n",
        "        points = product(range(0, h-h%d, d), range(0, w-w%d, d))\n",
        "        for x, y in points:\n",
        "            box = (y, x, y+d, x+d)\n",
        "            out = os.path.join(des, f'{name}_{x}_{y}.png')\n",
        "            img_crop.crop(box).save(out)"
      ],
      "metadata": {
        "id": "WledtQDd9LrO"
      },
      "execution_count": null,
      "outputs": []
    },
    {
      "cell_type": "code",
      "source": [
        "crop_img(kidney_labels,'/content/1/crop_labels/',256)\n",
        "crop_img(prostate_labels,'/content/2/crop_labels/',256)\n",
        "crop_img(largeintestine_labels,'/content/3/crop_labels/',256)\n",
        "crop_img(spleen_labels,'/content/4/crop_labels/',256)\n",
        "crop_img(lung_labels,'/content/5/crop_labels/',256)"
      ],
      "metadata": {
        "id": "AeCmoWL2AbBy"
      },
      "execution_count": null,
      "outputs": []
    },
    {
      "cell_type": "code",
      "source": [
        "len(os.listdir('/content/1/crop_labels/')),len(os.listdir('/content/2/crop_labels/')),len(os.listdir('/content/3/crop_labels/')),len(os.listdir('/content/4/crop_labels/')),len(os.listdir('/content/5/crop_labels/'))"
      ],
      "metadata": {
        "colab": {
          "base_uri": "https://localhost:8080/"
        },
        "id": "yWsVsKleCCg9",
        "outputId": "93f62f38-703e-4f99-9fc0-0d76a88b122a"
      },
      "execution_count": null,
      "outputs": [
        {
          "output_type": "execute_result",
          "data": {
            "text/plain": [
              "(6336, 5952, 3712, 3392, 3072)"
            ]
          },
          "metadata": {},
          "execution_count": 20
        }
      ]
    },
    {
      "cell_type": "code",
      "source": [
        "crop_img('/content/1/images','/content/1/crop_images',256)\n",
        "crop_img('/content/2/images','/content/2/crop_images',256)\n",
        "crop_img('/content/3/images','/content/3/crop_images',256)\n",
        "crop_img('/content/4/images','/content/4/crop_images',256)\n",
        "crop_img('/content/5/images','/content/5/crop_images',256)"
      ],
      "metadata": {
        "id": "lCqYt4fHB7nm"
      },
      "execution_count": null,
      "outputs": []
    },
    {
      "cell_type": "code",
      "source": [
        "len(os.listdir('/content/1/crop_images/')),len(os.listdir('/content/2/crop_images/')),len(os.listdir('/content/3/crop_images/')),len(os.listdir('/content/4/crop_images/')),len(os.listdir('/content/5/crop_images/'))"
      ],
      "metadata": {
        "colab": {
          "base_uri": "https://localhost:8080/"
        },
        "id": "Il3PKJVaDDrA",
        "outputId": "ad2dac24-c1d8-4eb8-fe75-c2151309aed7"
      },
      "execution_count": null,
      "outputs": [
        {
          "output_type": "execute_result",
          "data": {
            "text/plain": [
              "(6336, 5952, 3712, 3392, 3072)"
            ]
          },
          "metadata": {},
          "execution_count": 22
        }
      ]
    },
    {
      "cell_type": "markdown",
      "source": [
        "## background 30%"
      ],
      "metadata": {
        "id": "Ka5-7l4JN0qw"
      }
    },
    {
      "cell_type": "code",
      "source": [
        "# !mkdir img_garbage\n",
        "!mkdir garbage1\n",
        "!mkdir garbage2\n",
        "!mkdir garbage3\n",
        "!mkdir garbage4\n",
        "!mkdir garbage5"
      ],
      "metadata": {
        "id": "Yj02Um2gGvqP"
      },
      "execution_count": null,
      "outputs": []
    },
    {
      "cell_type": "markdown",
      "source": [
        "### test"
      ],
      "metadata": {
        "id": "7GsmVTwRN56m"
      }
    },
    {
      "cell_type": "code",
      "source": [
        "def test(src,des):\n",
        "    \n",
        "    for bg in os.listdir(src):\n",
        "        mask_dir=os.path.join(src,bg)\n",
        "        background=Image.open(mask_dir)\n",
        "        background=np.array(background)\n",
        "        if background.max()==0:\n",
        "          shutil.copy(src+bg,des+bg)"
      ],
      "metadata": {
        "id": "8CAGVslfITn4"
      },
      "execution_count": null,
      "outputs": []
    },
    {
      "cell_type": "code",
      "source": [
        "!rm -rf /content/test\n",
        "!mkdir test"
      ],
      "metadata": {
        "id": "a9R7xQtJKojT"
      },
      "execution_count": null,
      "outputs": []
    },
    {
      "cell_type": "code",
      "source": [
        "test('/content/5/crop_labels/','/content/test/')"
      ],
      "metadata": {
        "id": "2Pe7QQaeIqP4"
      },
      "execution_count": null,
      "outputs": []
    },
    {
      "cell_type": "code",
      "source": [
        "len(os.listdir('/content/test/'))"
      ],
      "metadata": {
        "colab": {
          "base_uri": "https://localhost:8080/"
        },
        "id": "-Nzs0UftK7kk",
        "outputId": "b98be90b-1469-4745-f8b1-78477257c43e"
      },
      "execution_count": null,
      "outputs": [
        {
          "output_type": "execute_result",
          "data": {
            "text/plain": [
              "2521"
            ]
          },
          "metadata": {},
          "execution_count": 62
        }
      ]
    },
    {
      "cell_type": "code",
      "source": [
        "print(5243*0.7,2716*0.7,1017*0.7,2204*0.7,2521*0.7)"
      ],
      "metadata": {
        "colab": {
          "base_uri": "https://localhost:8080/"
        },
        "id": "cLa6uP2yLiSI",
        "outputId": "4a543c2a-60f9-4a43-d50f-b4610884367e"
      },
      "execution_count": null,
      "outputs": [
        {
          "output_type": "stream",
          "name": "stdout",
          "text": [
            "3670.1 1901.1999999999998 711.9 1542.8 1764.6999999999998\n"
          ]
        }
      ]
    },
    {
      "cell_type": "markdown",
      "source": [
        "### move"
      ],
      "metadata": {
        "id": "rbNWWV2NN8Ux"
      }
    },
    {
      "cell_type": "code",
      "source": [
        "def bg_percentage(src,des,num):\n",
        "    temp=0\n",
        "    for bg in os.listdir(src):\n",
        "        mask_dir=os.path.join(src,bg)\n",
        "        background=Image.open(mask_dir)\n",
        "        background=np.array(background)\n",
        "        if background.max()==0:\n",
        "          shutil.move(src+bg,des+bg)\n",
        "          temp+=1\n",
        "        if temp==num:\n",
        "          break"
      ],
      "metadata": {
        "id": "GIqhhuQZE7FH"
      },
      "execution_count": null,
      "outputs": []
    },
    {
      "cell_type": "code",
      "source": [
        "bg_percentage('/content/1/crop_labels/','/content/garbage1/',3670)\n",
        "bg_percentage('/content/2/crop_labels/','/content/garbage2/',1901)\n",
        "bg_percentage('/content/3/crop_labels/','/content/garbage3/',711)\n",
        "bg_percentage('/content/4/crop_labels/','/content/garbage4/',1542)\n",
        "bg_percentage('/content/5/crop_labels/','/content/garbage5/',1764)"
      ],
      "metadata": {
        "id": "x-CLoCbyHguB"
      },
      "execution_count": null,
      "outputs": []
    },
    {
      "cell_type": "code",
      "source": [
        "len(os.listdir('/content/1/crop_labels/')),len(os.listdir('/content/2/crop_labels/')),len(os.listdir('/content/1/crop_labels/')),len(os.listdir('/content/1/crop_labels/')),len(os.listdir('/content/1/crop_labels/'))"
      ],
      "metadata": {
        "colab": {
          "base_uri": "https://localhost:8080/"
        },
        "id": "QBwRt9lNMQXq",
        "outputId": "fbe4f388-ee53-46f9-a6c4-08d3b9c73b85"
      },
      "execution_count": null,
      "outputs": [
        {
          "output_type": "execute_result",
          "data": {
            "text/plain": [
              "(2666, 4051, 2666, 2666, 2666)"
            ]
          },
          "metadata": {},
          "execution_count": 26
        }
      ]
    },
    {
      "cell_type": "code",
      "source": [
        "def move_trash(img_src,mask_src,img_des):\n",
        "    for img,mask in zip(os.listdir(img_src),os.listdir(mask_src)):\n",
        "        img=mask\n",
        "        shutil.move(img_src+img,img_des+img)"
      ],
      "metadata": {
        "id": "fsC6biECNqPd"
      },
      "execution_count": null,
      "outputs": []
    },
    {
      "cell_type": "code",
      "source": [
        "!mkdir img_garbage"
      ],
      "metadata": {
        "id": "Ju_nfQXxQLwI"
      },
      "execution_count": null,
      "outputs": []
    },
    {
      "cell_type": "code",
      "source": [
        "des='/content/img_garbage/'"
      ],
      "metadata": {
        "id": "Bgphb0ykQBCF"
      },
      "execution_count": null,
      "outputs": []
    },
    {
      "cell_type": "code",
      "source": [
        "move_trash('/content/1/crop_images/','/content/garbage1/',des)\n",
        "move_trash('/content/2/crop_images/','/content/garbage2/',des)\n",
        "move_trash('/content/3/crop_images/','/content/garbage3/',des)\n",
        "move_trash('/content/4/crop_images/','/content/garbage4/',des)\n",
        "move_trash('/content/5/crop_images/','/content/garbage5/',des)"
      ],
      "metadata": {
        "id": "E65obaugQCvg"
      },
      "execution_count": null,
      "outputs": []
    },
    {
      "cell_type": "code",
      "source": [
        "len(os.listdir('/content/1/crop_images/')),len(os.listdir('/content/2/crop_images/')),len(os.listdir('/content/3/crop_images/')),len(os.listdir('/content/4/crop_images/')),len(os.listdir('/content/5/crop_images/'))"
      ],
      "metadata": {
        "colab": {
          "base_uri": "https://localhost:8080/"
        },
        "id": "5hzxZauwNx0V",
        "outputId": "d80221a2-dbca-4c12-aa2e-8daa773ff4be"
      },
      "execution_count": null,
      "outputs": [
        {
          "output_type": "execute_result",
          "data": {
            "text/plain": [
              "(2666, 4051, 3001, 1850, 1308)"
            ]
          },
          "metadata": {},
          "execution_count": 31
        }
      ]
    },
    {
      "cell_type": "markdown",
      "source": [
        "## 모으기"
      ],
      "metadata": {
        "id": "N1l2yKwhQrFS"
      }
    },
    {
      "cell_type": "code",
      "source": [
        "!mkdir Crop_256x256_multi\n",
        "!mkdir /content/Crop_256x256_multi/images\n",
        "!mkdir /content/Crop_256x256_multi/labels"
      ],
      "metadata": {
        "id": "JZlxhI9ZQTDY"
      },
      "execution_count": null,
      "outputs": []
    },
    {
      "cell_type": "code",
      "source": [
        "def move_files(src,des):\n",
        "    for img in os.listdir(src):\n",
        "        shutil.copy(src+img,des+img)"
      ],
      "metadata": {
        "id": "kmSzYj3ARAD9"
      },
      "execution_count": null,
      "outputs": []
    },
    {
      "cell_type": "code",
      "source": [
        "final_imgdes='/content/Crop_256x256_multi/images/'\n",
        "final_labeldes='/content/Crop_256x256_multi/labels/'"
      ],
      "metadata": {
        "id": "i5vL9zjaRnvP"
      },
      "execution_count": null,
      "outputs": []
    },
    {
      "cell_type": "code",
      "source": [
        "move_files('/content/1/crop_images/',final_imgdes)\n",
        "move_files('/content/2/crop_images/',final_imgdes)\n",
        "move_files('/content/3/crop_images/',final_imgdes)\n",
        "move_files('/content/4/crop_images/',final_imgdes)\n",
        "move_files('/content/5/crop_images/',final_imgdes)"
      ],
      "metadata": {
        "id": "Rw29rSTWRfzy"
      },
      "execution_count": null,
      "outputs": []
    },
    {
      "cell_type": "code",
      "source": [
        "move_files('/content/1/crop_labels/',final_labeldes)\n",
        "move_files('/content/2/crop_labels/',final_labeldes)\n",
        "move_files('/content/3/crop_labels/',final_labeldes)\n",
        "move_files('/content/4/crop_labels/',final_labeldes)\n",
        "move_files('/content/5/crop_labels/',final_labeldes)"
      ],
      "metadata": {
        "id": "rpo_LTKgR99p"
      },
      "execution_count": null,
      "outputs": []
    },
    {
      "cell_type": "code",
      "source": [
        "len(os.listdir(final_imgdes)),len(os.listdir(final_labeldes))"
      ],
      "metadata": {
        "colab": {
          "base_uri": "https://localhost:8080/"
        },
        "id": "-dsdfsB0SLNA",
        "outputId": "f381007c-30e2-42e6-cf5b-0afb25ec31cd"
      },
      "execution_count": null,
      "outputs": [
        {
          "output_type": "execute_result",
          "data": {
            "text/plain": [
              "(12876, 12876)"
            ]
          },
          "metadata": {},
          "execution_count": 37
        }
      ]
    },
    {
      "cell_type": "code",
      "source": [
        "!zip Crop_256x256_Multi0825.zip -r ./Crop_256x256_multi"
      ],
      "metadata": {
        "id": "78ewPB5GSQw-"
      },
      "execution_count": null,
      "outputs": []
    },
    {
      "cell_type": "code",
      "source": [
        "!mv /content/Crop_256x256_Multi0825.zip /content/drive/MyDrive/Kaggle"
      ],
      "metadata": {
        "id": "bI4cPte-SiEi"
      },
      "execution_count": null,
      "outputs": []
    },
    {
      "cell_type": "markdown",
      "source": [
        "## binary"
      ],
      "metadata": {
        "id": "B5bnUMcsTMmq"
      }
    },
    {
      "cell_type": "code",
      "source": [
        "masks_path='/content/Crop_256x256_multi/labels/'\n",
        "for mask in os.listdir(masks_path):\n",
        "    mask_dir=os.path.join(masks_path,mask)\n",
        "    binary=Image.open(mask_dir)\n",
        "    binary=np.array(binary)\n",
        "    binary=np.where(binary>0, 1, 0)\n",
        "  \n",
        "    binary=Image.fromarray(binary.astype(np.uint8))\n",
        "    binary.save(masks_path+mask)"
      ],
      "metadata": {
        "id": "zSH_o2uJTHQf"
      },
      "execution_count": null,
      "outputs": []
    },
    {
      "cell_type": "code",
      "source": [
        "for masks in os.listdir(masks_path):\n",
        "    mask_dir=os.path.join(masks_path,masks)\n",
        "    test=Image.open(mask_dir)\n",
        "    test=np.array(test)\n",
        "    print(test)"
      ],
      "metadata": {
        "id": "KlS75Fa_T2jS"
      },
      "execution_count": null,
      "outputs": []
    },
    {
      "cell_type": "code",
      "source": [
        "len(os.listdir(masks_path))"
      ],
      "metadata": {
        "colab": {
          "base_uri": "https://localhost:8080/"
        },
        "id": "1f2T2q3AYaAJ",
        "outputId": "94a9f0cd-271b-43a4-ab30-a26d8cec4294"
      },
      "execution_count": null,
      "outputs": [
        {
          "output_type": "execute_result",
          "data": {
            "text/plain": [
              "12876"
            ]
          },
          "metadata": {},
          "execution_count": 52
        }
      ]
    },
    {
      "cell_type": "code",
      "source": [
        "!mv /content/Crop_256x256_multi /content/Crop_256x256_binary"
      ],
      "metadata": {
        "id": "E3FQJi-FYlum"
      },
      "execution_count": null,
      "outputs": []
    },
    {
      "cell_type": "code",
      "source": [
        "!zip Crop_256x256_binary0825.zip -r ./Crop_256x256_binary"
      ],
      "metadata": {
        "id": "du4oOqcyYvZW"
      },
      "execution_count": null,
      "outputs": []
    },
    {
      "cell_type": "code",
      "source": [
        "!mv /content/Crop_256x256_binary0825.zip /content/drive/MyDrive/Kaggle"
      ],
      "metadata": {
        "id": "skc75zzEY4sz"
      },
      "execution_count": null,
      "outputs": []
    },
    {
      "cell_type": "code",
      "source": [],
      "metadata": {
        "id": "nOlUnF06Za2I"
      },
      "execution_count": null,
      "outputs": []
    }
  ]
}