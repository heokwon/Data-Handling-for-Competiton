{
  "nbformat": 4,
  "nbformat_minor": 0,
  "metadata": {
    "colab": {
      "provenance": [],
      "collapsed_sections": [],
      "authorship_tag": "ABX9TyPjhWNA7d5uip7VvRJqMB7s",
      "include_colab_link": true
    },
    "kernelspec": {
      "name": "python3",
      "display_name": "Python 3"
    },
    "language_info": {
      "name": "python"
    }
  },
  "cells": [
    {
      "cell_type": "markdown",
      "metadata": {
        "id": "view-in-github",
        "colab_type": "text"
      },
      "source": [
        "<a href=\"https://colab.research.google.com/github/heokwon/Data-Handling-for-Competiton/blob/main/Binary2Multi.ipynb\" target=\"_parent\"><img src=\"https://colab.research.google.com/assets/colab-badge.svg\" alt=\"Open In Colab\"/></a>"
      ]
    },
    {
      "cell_type": "code",
      "source": [
        "import os\n",
        "import numpy as np\n",
        "import pandas as pd\n",
        "import matplotlib.pyplot as plt\n",
        "import cv2\n",
        "import imageio\n",
        "import tifffile as tiff\n",
        "from PIL import Image\n",
        "import numpy as np\n",
        "import seaborn as sns\n",
        "import scipy.signal as sig\n",
        "from scipy import misc\n",
        "import matplotlib.pyplot as plt\n",
        "from scipy import ndimage"
      ],
      "metadata": {
        "id": "Ckxlv7dLGXy4"
      },
      "execution_count": 1,
      "outputs": []
    },
    {
      "cell_type": "code",
      "execution_count": null,
      "metadata": {
        "id": "JQNXyIkEGKGs"
      },
      "outputs": [],
      "source": [
        "!gdown 1HeLtZpbcefEcsp7eSzcrpxEyCir9UBjc\n",
        "!unzip 512_2_3_6_stride_dataset.zip"
      ]
    },
    {
      "cell_type": "code",
      "source": [
        "# train csv\n",
        "!gdown 1CYzwew45Tuzs1w0oNbraDT4F8RoMlq1O"
      ],
      "metadata": {
        "colab": {
          "base_uri": "https://localhost:8080/"
        },
        "id": "UQE3Z7wBC-_2",
        "outputId": "62ef5452-7daa-40bd-ea08-69aeb9b2d1d1"
      },
      "execution_count": 3,
      "outputs": [
        {
          "output_type": "stream",
          "name": "stdout",
          "text": [
            "Downloading...\n",
            "From: https://drive.google.com/uc?id=1CYzwew45Tuzs1w0oNbraDT4F8RoMlq1O\n",
            "To: /content/train.csv\n",
            "\r  0% 0.00/16.4M [00:00<?, ?B/s]\r 29% 4.72M/16.4M [00:00<00:00, 39.9MB/s]\r100% 16.4M/16.4M [00:00<00:00, 99.9MB/s]\n"
          ]
        }
      ]
    },
    {
      "cell_type": "code",
      "execution_count": 4,
      "metadata": {
        "execution": {
          "iopub.execute_input": "2022-08-13T00:11:29.377586Z",
          "iopub.status.busy": "2022-08-13T00:11:29.376300Z",
          "iopub.status.idle": "2022-08-13T00:11:29.732104Z",
          "shell.execute_reply": "2022-08-13T00:11:29.731089Z"
        },
        "papermill": {
          "duration": 0.374183,
          "end_time": "2022-08-13T00:11:29.734918",
          "exception": false,
          "start_time": "2022-08-13T00:11:29.360735",
          "status": "completed"
        },
        "tags": [],
        "id": "e3d7a966"
      },
      "outputs": [],
      "source": [
        "data_frame = pd.read_csv('/content/train.csv')"
      ]
    },
    {
      "cell_type": "code",
      "source": [
        "## helper function\n",
        "def list_ids_organ(df, o):\n",
        "    list_ids = list(df.loc[df['organ']==o].id)\n",
        "    return list_ids"
      ],
      "metadata": {
        "id": "AEnZFRFBZ1Hs"
      },
      "execution_count": 24,
      "outputs": []
    },
    {
      "cell_type": "code",
      "execution_count": 6,
      "metadata": {
        "execution": {
          "iopub.execute_input": "2022-08-13T00:11:30.080684Z",
          "iopub.status.busy": "2022-08-13T00:11:30.079687Z",
          "iopub.status.idle": "2022-08-13T00:11:30.166817Z",
          "shell.execute_reply": "2022-08-13T00:11:30.165457Z"
        },
        "papermill": {
          "duration": 0.101142,
          "end_time": "2022-08-13T00:11:30.169511",
          "exception": false,
          "start_time": "2022-08-13T00:11:30.068369",
          "status": "completed"
        },
        "tags": [],
        "colab": {
          "base_uri": "https://localhost:8080/",
          "height": 206
        },
        "id": "f065e233",
        "outputId": "5d33ed96-27c4-40d6-9e2c-0400b0cdb826"
      },
      "outputs": [
        {
          "output_type": "execute_result",
          "data": {
            "text/plain": [
              "            organ                                                ids\n",
              "0        prostate  [10044, 10274, 10666, 10912, 10971, 1184, 1223...\n",
              "1          spleen  [10392, 10610, 10703, 10992, 1123, 11448, 1164...\n",
              "2            lung  [10488, 11064, 11629, 1220, 12452, 12476, 127,...\n",
              "3          kidney  [10611, 11497, 1157, 12784, 13034, 13260, 1475...\n",
              "4  largeintestine  [10651, 10892, 11662, 1168, 11890, 12174, 1247..."
            ],
            "text/html": [
              "\n",
              "  <div id=\"df-ed8f4660-bef9-4e33-9408-f11574523116\">\n",
              "    <div class=\"colab-df-container\">\n",
              "      <div>\n",
              "<style scoped>\n",
              "    .dataframe tbody tr th:only-of-type {\n",
              "        vertical-align: middle;\n",
              "    }\n",
              "\n",
              "    .dataframe tbody tr th {\n",
              "        vertical-align: top;\n",
              "    }\n",
              "\n",
              "    .dataframe thead th {\n",
              "        text-align: right;\n",
              "    }\n",
              "</style>\n",
              "<table border=\"1\" class=\"dataframe\">\n",
              "  <thead>\n",
              "    <tr style=\"text-align: right;\">\n",
              "      <th></th>\n",
              "      <th>organ</th>\n",
              "      <th>ids</th>\n",
              "    </tr>\n",
              "  </thead>\n",
              "  <tbody>\n",
              "    <tr>\n",
              "      <th>0</th>\n",
              "      <td>prostate</td>\n",
              "      <td>[10044, 10274, 10666, 10912, 10971, 1184, 1223...</td>\n",
              "    </tr>\n",
              "    <tr>\n",
              "      <th>1</th>\n",
              "      <td>spleen</td>\n",
              "      <td>[10392, 10610, 10703, 10992, 1123, 11448, 1164...</td>\n",
              "    </tr>\n",
              "    <tr>\n",
              "      <th>2</th>\n",
              "      <td>lung</td>\n",
              "      <td>[10488, 11064, 11629, 1220, 12452, 12476, 127,...</td>\n",
              "    </tr>\n",
              "    <tr>\n",
              "      <th>3</th>\n",
              "      <td>kidney</td>\n",
              "      <td>[10611, 11497, 1157, 12784, 13034, 13260, 1475...</td>\n",
              "    </tr>\n",
              "    <tr>\n",
              "      <th>4</th>\n",
              "      <td>largeintestine</td>\n",
              "      <td>[10651, 10892, 11662, 1168, 11890, 12174, 1247...</td>\n",
              "    </tr>\n",
              "  </tbody>\n",
              "</table>\n",
              "</div>\n",
              "      <button class=\"colab-df-convert\" onclick=\"convertToInteractive('df-ed8f4660-bef9-4e33-9408-f11574523116')\"\n",
              "              title=\"Convert this dataframe to an interactive table.\"\n",
              "              style=\"display:none;\">\n",
              "        \n",
              "  <svg xmlns=\"http://www.w3.org/2000/svg\" height=\"24px\"viewBox=\"0 0 24 24\"\n",
              "       width=\"24px\">\n",
              "    <path d=\"M0 0h24v24H0V0z\" fill=\"none\"/>\n",
              "    <path d=\"M18.56 5.44l.94 2.06.94-2.06 2.06-.94-2.06-.94-.94-2.06-.94 2.06-2.06.94zm-11 1L8.5 8.5l.94-2.06 2.06-.94-2.06-.94L8.5 2.5l-.94 2.06-2.06.94zm10 10l.94 2.06.94-2.06 2.06-.94-2.06-.94-.94-2.06-.94 2.06-2.06.94z\"/><path d=\"M17.41 7.96l-1.37-1.37c-.4-.4-.92-.59-1.43-.59-.52 0-1.04.2-1.43.59L10.3 9.45l-7.72 7.72c-.78.78-.78 2.05 0 2.83L4 21.41c.39.39.9.59 1.41.59.51 0 1.02-.2 1.41-.59l7.78-7.78 2.81-2.81c.8-.78.8-2.07 0-2.86zM5.41 20L4 18.59l7.72-7.72 1.47 1.35L5.41 20z\"/>\n",
              "  </svg>\n",
              "      </button>\n",
              "      \n",
              "  <style>\n",
              "    .colab-df-container {\n",
              "      display:flex;\n",
              "      flex-wrap:wrap;\n",
              "      gap: 12px;\n",
              "    }\n",
              "\n",
              "    .colab-df-convert {\n",
              "      background-color: #E8F0FE;\n",
              "      border: none;\n",
              "      border-radius: 50%;\n",
              "      cursor: pointer;\n",
              "      display: none;\n",
              "      fill: #1967D2;\n",
              "      height: 32px;\n",
              "      padding: 0 0 0 0;\n",
              "      width: 32px;\n",
              "    }\n",
              "\n",
              "    .colab-df-convert:hover {\n",
              "      background-color: #E2EBFA;\n",
              "      box-shadow: 0px 1px 2px rgba(60, 64, 67, 0.3), 0px 1px 3px 1px rgba(60, 64, 67, 0.15);\n",
              "      fill: #174EA6;\n",
              "    }\n",
              "\n",
              "    [theme=dark] .colab-df-convert {\n",
              "      background-color: #3B4455;\n",
              "      fill: #D2E3FC;\n",
              "    }\n",
              "\n",
              "    [theme=dark] .colab-df-convert:hover {\n",
              "      background-color: #434B5C;\n",
              "      box-shadow: 0px 1px 3px 1px rgba(0, 0, 0, 0.15);\n",
              "      filter: drop-shadow(0px 1px 2px rgba(0, 0, 0, 0.3));\n",
              "      fill: #FFFFFF;\n",
              "    }\n",
              "  </style>\n",
              "\n",
              "      <script>\n",
              "        const buttonEl =\n",
              "          document.querySelector('#df-ed8f4660-bef9-4e33-9408-f11574523116 button.colab-df-convert');\n",
              "        buttonEl.style.display =\n",
              "          google.colab.kernel.accessAllowed ? 'block' : 'none';\n",
              "\n",
              "        async function convertToInteractive(key) {\n",
              "          const element = document.querySelector('#df-ed8f4660-bef9-4e33-9408-f11574523116');\n",
              "          const dataTable =\n",
              "            await google.colab.kernel.invokeFunction('convertToInteractive',\n",
              "                                                     [key], {});\n",
              "          if (!dataTable) return;\n",
              "\n",
              "          const docLinkHtml = 'Like what you see? Visit the ' +\n",
              "            '<a target=\"_blank\" href=https://colab.research.google.com/notebooks/data_table.ipynb>data table notebook</a>'\n",
              "            + ' to learn more about interactive tables.';\n",
              "          element.innerHTML = '';\n",
              "          dataTable['output_type'] = 'display_data';\n",
              "          await google.colab.output.renderOutput(dataTable, element);\n",
              "          const docLink = document.createElement('div');\n",
              "          docLink.innerHTML = docLinkHtml;\n",
              "          element.appendChild(docLink);\n",
              "        }\n",
              "      </script>\n",
              "    </div>\n",
              "  </div>\n",
              "  "
            ]
          },
          "metadata": {},
          "execution_count": 6
        }
      ],
      "source": [
        "# create an organ dataframe with ids only\n",
        "organs = {'prostate': [],'spleen': [],'lung': [],'kidney': [],'largeintestine': []}\n",
        "for organ, ids in organs.items():\n",
        "    list_organ = list_ids_organ(data_frame, organ)\n",
        "    ids.append(list_organ)\n",
        "df_organs = pd.DataFrame.from_dict(organs, orient='index').reset_index()\n",
        "df_organs.columns = ['organ', 'ids']\n",
        "df_organs"
      ]
    },
    {
      "cell_type": "code",
      "source": [
        "# mask_map = dict(\n",
        "#     kidney=1,\n",
        "#     prostate=2,\n",
        "#     largeintestine=3,\n",
        "#     spleen=4,\n",
        "#     lung=5)#add"
      ],
      "metadata": {
        "id": "PBsl1p1WKO-d"
      },
      "execution_count": null,
      "outputs": []
    },
    {
      "cell_type": "code",
      "source": [
        "!rm -rf ./test"
      ],
      "metadata": {
        "id": "ph0ZlINANhAw"
      },
      "execution_count": null,
      "outputs": []
    },
    {
      "cell_type": "code",
      "source": [
        "!mkdir test"
      ],
      "metadata": {
        "id": "t1kHsqLKKbGm"
      },
      "execution_count": null,
      "outputs": []
    },
    {
      "cell_type": "code",
      "source": [
        "len(os.listdir('/content/512_2_3_6_stride_dataset/train')),len(os.listdir('/content/512_2_3_6_stride_dataset/masks'))"
      ],
      "metadata": {
        "colab": {
          "base_uri": "https://localhost:8080/"
        },
        "id": "algaZrxvPoDy",
        "outputId": "b1408197-47f7-41ce-da75-fd5b4682f54e"
      },
      "execution_count": 7,
      "outputs": [
        {
          "output_type": "execute_result",
          "data": {
            "text/plain": [
              "(11288, 11288)"
            ]
          },
          "metadata": {},
          "execution_count": 7
        }
      ]
    },
    {
      "cell_type": "code",
      "source": [
        "prostate = df_organs.loc[df_organs['organ'] == 'prostate']['ids'].values[0]\n",
        "spleen = df_organs.loc[df_organs['organ'] == 'spleen']['ids'].values[0]\n",
        "lung = df_organs.loc[df_organs['organ'] == 'lung']['ids'].values[0]\n",
        "kidney = df_organs.loc[df_organs['organ'] == 'kidney']['ids'].values[0]\n",
        "largeintestine = df_organs.loc[df_organs['organ'] == 'largeintestine']['ids'].values[0]"
      ],
      "metadata": {
        "id": "xNGgYVZ6pvap"
      },
      "execution_count": 8,
      "outputs": []
    },
    {
      "cell_type": "code",
      "source": [
        "r2 = [f'{i:05d}' for i in range(25)]\n",
        "r3 = [f'{i:04d}' for i in range(9)]\n",
        "r6 = ['000']"
      ],
      "metadata": {
        "id": "ddZaKnF0GeYJ"
      },
      "execution_count": 9,
      "outputs": []
    },
    {
      "cell_type": "code",
      "source": [
        "mask_src='/content/512_2_3_6_stride_dataset/masks/'"
      ],
      "metadata": {
        "id": "7fCRfN_qI2TG"
      },
      "execution_count": 10,
      "outputs": []
    },
    {
      "cell_type": "code",
      "source": [
        "def creat_multi(organ,r,label):\n",
        "    for ids in organ:\n",
        "        for idx in r:\n",
        "            try:\n",
        "              multi = Image.open(mask_src+f'{ids}_{idx}.png')\n",
        "              multi = np.array(multi)\n",
        "              multi = np.where(multi > 0, label, 0)\n",
        "              multi = Image.fromarray(multi.astype(np.uint8))\n",
        "              multi.save(f'/content/512_2_3_6_stride_dataset/masks/{ids}_{idx}.png')\n",
        "            except:\n",
        "              pass"
      ],
      "metadata": {
        "id": "RHj90DFRHkTv"
      },
      "execution_count": 11,
      "outputs": []
    },
    {
      "cell_type": "code",
      "source": [
        "creat_multi(kidney,r2,1)\n",
        "creat_multi(kidney,r3,1)\n",
        "creat_multi(kidney,r6,1)"
      ],
      "metadata": {
        "id": "VDJRYoD9NU05"
      },
      "execution_count": 12,
      "outputs": []
    },
    {
      "cell_type": "code",
      "source": [
        "creat_multi(prostate,r2,2)\n",
        "creat_multi(prostate,r3,2)\n",
        "creat_multi(prostate,r6,2)"
      ],
      "metadata": {
        "id": "89vqhjIjQd8y"
      },
      "execution_count": 13,
      "outputs": []
    },
    {
      "cell_type": "code",
      "source": [
        "creat_multi(largeintestine,r2,3)\n",
        "creat_multi(largeintestine,r3,3)\n",
        "creat_multi(largeintestine,r6,3)"
      ],
      "metadata": {
        "id": "QUyk5MrkQj5F"
      },
      "execution_count": 14,
      "outputs": []
    },
    {
      "cell_type": "code",
      "source": [
        "creat_multi(spleen,r2,4)\n",
        "creat_multi(spleen,r3,4)\n",
        "creat_multi(spleen,r6,4)"
      ],
      "metadata": {
        "id": "D4vUKCZaQphJ"
      },
      "execution_count": 15,
      "outputs": []
    },
    {
      "cell_type": "code",
      "source": [
        "creat_multi(lung,r2,5)\n",
        "creat_multi(lung,r3,5)\n",
        "creat_multi(lung,r6,5)"
      ],
      "metadata": {
        "id": "Nq812xKkQwQa"
      },
      "execution_count": 16,
      "outputs": []
    },
    {
      "cell_type": "code",
      "source": [
        "len(os.listdir('/content/m_512_2_3_6_stride_dataset/train')),len(os.listdir('/content/m_512_2_3_6_stride_dataset/masks'))"
      ],
      "metadata": {
        "colab": {
          "base_uri": "https://localhost:8080/"
        },
        "id": "25AyQrGJQ1Hx",
        "outputId": "a567ceb1-c231-44ab-aa96-e70fea4bf6dc"
      },
      "execution_count": 22,
      "outputs": [
        {
          "output_type": "execute_result",
          "data": {
            "text/plain": [
              "(11288, 11288)"
            ]
          },
          "metadata": {},
          "execution_count": 22
        }
      ]
    }
  ]
}