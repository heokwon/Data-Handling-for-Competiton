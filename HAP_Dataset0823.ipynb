{
  "nbformat": 4,
  "nbformat_minor": 0,
  "metadata": {
    "colab": {
      "provenance": [],
      "collapsed_sections": [],
      "include_colab_link": true
    },
    "kernelspec": {
      "name": "python3",
      "display_name": "Python 3"
    },
    "language_info": {
      "name": "python"
    },
    "widgets": {
      "application/vnd.jupyter.widget-state+json": {
        "21022a1b180047b197a24605978cc400": {
          "model_module": "@jupyter-widgets/controls",
          "model_name": "HBoxModel",
          "model_module_version": "2.0.0",
          "state": {
            "_dom_classes": [],
            "_model_module": "@jupyter-widgets/controls",
            "_model_module_version": "2.0.0",
            "_model_name": "HBoxModel",
            "_view_count": null,
            "_view_module": "@jupyter-widgets/controls",
            "_view_module_version": "2.0.0",
            "_view_name": "HBoxView",
            "box_style": "",
            "children": [
              "IPY_MODEL_5e455210920c4028ae121eac8ca12680",
              "IPY_MODEL_e0a0623114b74011b66a2d253b5f38f7",
              "IPY_MODEL_154a5d53ea0041c8882f9c54f0479e97"
            ],
            "layout": "IPY_MODEL_cd7fc4479abb47838d4dbdfb7dd4792e",
            "tabbable": null,
            "tooltip": null
          }
        },
        "5e455210920c4028ae121eac8ca12680": {
          "model_module": "@jupyter-widgets/controls",
          "model_name": "HTMLModel",
          "model_module_version": "2.0.0",
          "state": {
            "_dom_classes": [],
            "_model_module": "@jupyter-widgets/controls",
            "_model_module_version": "2.0.0",
            "_model_name": "HTMLModel",
            "_view_count": null,
            "_view_module": "@jupyter-widgets/controls",
            "_view_module_version": "2.0.0",
            "_view_name": "HTMLView",
            "description": "",
            "description_allow_html": false,
            "layout": "IPY_MODEL_bdb35c8cbaa64acdb9a5e051a01724dc",
            "placeholder": "​",
            "style": "IPY_MODEL_696155e86e3b441f8f2c66efb19b706c",
            "tabbable": null,
            "tooltip": null,
            "value": "100%"
          }
        },
        "e0a0623114b74011b66a2d253b5f38f7": {
          "model_module": "@jupyter-widgets/controls",
          "model_name": "FloatProgressModel",
          "model_module_version": "2.0.0",
          "state": {
            "_dom_classes": [],
            "_model_module": "@jupyter-widgets/controls",
            "_model_module_version": "2.0.0",
            "_model_name": "FloatProgressModel",
            "_view_count": null,
            "_view_module": "@jupyter-widgets/controls",
            "_view_module_version": "2.0.0",
            "_view_name": "ProgressView",
            "bar_style": "success",
            "description": "",
            "description_allow_html": false,
            "layout": "IPY_MODEL_db24e0cc017e4361ad9bc460fe056531",
            "max": 351,
            "min": 0,
            "orientation": "horizontal",
            "style": "IPY_MODEL_771bbe917a9245a0a511ae49294c81ee",
            "tabbable": null,
            "tooltip": null,
            "value": 351
          }
        },
        "154a5d53ea0041c8882f9c54f0479e97": {
          "model_module": "@jupyter-widgets/controls",
          "model_name": "HTMLModel",
          "model_module_version": "2.0.0",
          "state": {
            "_dom_classes": [],
            "_model_module": "@jupyter-widgets/controls",
            "_model_module_version": "2.0.0",
            "_model_name": "HTMLModel",
            "_view_count": null,
            "_view_module": "@jupyter-widgets/controls",
            "_view_module_version": "2.0.0",
            "_view_name": "HTMLView",
            "description": "",
            "description_allow_html": false,
            "layout": "IPY_MODEL_3a2c33db4fc94feb976010137fbd1722",
            "placeholder": "​",
            "style": "IPY_MODEL_bde38b00c7024ee38cd1af04d30a17af",
            "tabbable": null,
            "tooltip": null,
            "value": " 351/351 [00:20&lt;00:00, 22.74it/s]"
          }
        },
        "cd7fc4479abb47838d4dbdfb7dd4792e": {
          "model_module": "@jupyter-widgets/base",
          "model_name": "LayoutModel",
          "model_module_version": "2.0.0",
          "state": {
            "_model_module": "@jupyter-widgets/base",
            "_model_module_version": "2.0.0",
            "_model_name": "LayoutModel",
            "_view_count": null,
            "_view_module": "@jupyter-widgets/base",
            "_view_module_version": "2.0.0",
            "_view_name": "LayoutView",
            "align_content": null,
            "align_items": null,
            "align_self": null,
            "border_bottom": null,
            "border_left": null,
            "border_right": null,
            "border_top": null,
            "bottom": null,
            "display": null,
            "flex": null,
            "flex_flow": null,
            "grid_area": null,
            "grid_auto_columns": null,
            "grid_auto_flow": null,
            "grid_auto_rows": null,
            "grid_column": null,
            "grid_gap": null,
            "grid_row": null,
            "grid_template_areas": null,
            "grid_template_columns": null,
            "grid_template_rows": null,
            "height": null,
            "justify_content": null,
            "justify_items": null,
            "left": null,
            "margin": null,
            "max_height": null,
            "max_width": null,
            "min_height": null,
            "min_width": null,
            "object_fit": null,
            "object_position": null,
            "order": null,
            "overflow": null,
            "padding": null,
            "right": null,
            "top": null,
            "visibility": null,
            "width": null
          }
        },
        "bdb35c8cbaa64acdb9a5e051a01724dc": {
          "model_module": "@jupyter-widgets/base",
          "model_name": "LayoutModel",
          "model_module_version": "2.0.0",
          "state": {
            "_model_module": "@jupyter-widgets/base",
            "_model_module_version": "2.0.0",
            "_model_name": "LayoutModel",
            "_view_count": null,
            "_view_module": "@jupyter-widgets/base",
            "_view_module_version": "2.0.0",
            "_view_name": "LayoutView",
            "align_content": null,
            "align_items": null,
            "align_self": null,
            "border_bottom": null,
            "border_left": null,
            "border_right": null,
            "border_top": null,
            "bottom": null,
            "display": null,
            "flex": null,
            "flex_flow": null,
            "grid_area": null,
            "grid_auto_columns": null,
            "grid_auto_flow": null,
            "grid_auto_rows": null,
            "grid_column": null,
            "grid_gap": null,
            "grid_row": null,
            "grid_template_areas": null,
            "grid_template_columns": null,
            "grid_template_rows": null,
            "height": null,
            "justify_content": null,
            "justify_items": null,
            "left": null,
            "margin": null,
            "max_height": null,
            "max_width": null,
            "min_height": null,
            "min_width": null,
            "object_fit": null,
            "object_position": null,
            "order": null,
            "overflow": null,
            "padding": null,
            "right": null,
            "top": null,
            "visibility": null,
            "width": null
          }
        },
        "696155e86e3b441f8f2c66efb19b706c": {
          "model_module": "@jupyter-widgets/controls",
          "model_name": "HTMLStyleModel",
          "model_module_version": "2.0.0",
          "state": {
            "_model_module": "@jupyter-widgets/controls",
            "_model_module_version": "2.0.0",
            "_model_name": "HTMLStyleModel",
            "_view_count": null,
            "_view_module": "@jupyter-widgets/base",
            "_view_module_version": "2.0.0",
            "_view_name": "StyleView",
            "background": null,
            "description_width": "",
            "font_size": null,
            "text_color": null
          }
        },
        "db24e0cc017e4361ad9bc460fe056531": {
          "model_module": "@jupyter-widgets/base",
          "model_name": "LayoutModel",
          "model_module_version": "2.0.0",
          "state": {
            "_model_module": "@jupyter-widgets/base",
            "_model_module_version": "2.0.0",
            "_model_name": "LayoutModel",
            "_view_count": null,
            "_view_module": "@jupyter-widgets/base",
            "_view_module_version": "2.0.0",
            "_view_name": "LayoutView",
            "align_content": null,
            "align_items": null,
            "align_self": null,
            "border_bottom": null,
            "border_left": null,
            "border_right": null,
            "border_top": null,
            "bottom": null,
            "display": null,
            "flex": null,
            "flex_flow": null,
            "grid_area": null,
            "grid_auto_columns": null,
            "grid_auto_flow": null,
            "grid_auto_rows": null,
            "grid_column": null,
            "grid_gap": null,
            "grid_row": null,
            "grid_template_areas": null,
            "grid_template_columns": null,
            "grid_template_rows": null,
            "height": null,
            "justify_content": null,
            "justify_items": null,
            "left": null,
            "margin": null,
            "max_height": null,
            "max_width": null,
            "min_height": null,
            "min_width": null,
            "object_fit": null,
            "object_position": null,
            "order": null,
            "overflow": null,
            "padding": null,
            "right": null,
            "top": null,
            "visibility": null,
            "width": null
          }
        },
        "771bbe917a9245a0a511ae49294c81ee": {
          "model_module": "@jupyter-widgets/controls",
          "model_name": "ProgressStyleModel",
          "model_module_version": "2.0.0",
          "state": {
            "_model_module": "@jupyter-widgets/controls",
            "_model_module_version": "2.0.0",
            "_model_name": "ProgressStyleModel",
            "_view_count": null,
            "_view_module": "@jupyter-widgets/base",
            "_view_module_version": "2.0.0",
            "_view_name": "StyleView",
            "bar_color": null,
            "description_width": ""
          }
        },
        "3a2c33db4fc94feb976010137fbd1722": {
          "model_module": "@jupyter-widgets/base",
          "model_name": "LayoutModel",
          "model_module_version": "2.0.0",
          "state": {
            "_model_module": "@jupyter-widgets/base",
            "_model_module_version": "2.0.0",
            "_model_name": "LayoutModel",
            "_view_count": null,
            "_view_module": "@jupyter-widgets/base",
            "_view_module_version": "2.0.0",
            "_view_name": "LayoutView",
            "align_content": null,
            "align_items": null,
            "align_self": null,
            "border_bottom": null,
            "border_left": null,
            "border_right": null,
            "border_top": null,
            "bottom": null,
            "display": null,
            "flex": null,
            "flex_flow": null,
            "grid_area": null,
            "grid_auto_columns": null,
            "grid_auto_flow": null,
            "grid_auto_rows": null,
            "grid_column": null,
            "grid_gap": null,
            "grid_row": null,
            "grid_template_areas": null,
            "grid_template_columns": null,
            "grid_template_rows": null,
            "height": null,
            "justify_content": null,
            "justify_items": null,
            "left": null,
            "margin": null,
            "max_height": null,
            "max_width": null,
            "min_height": null,
            "min_width": null,
            "object_fit": null,
            "object_position": null,
            "order": null,
            "overflow": null,
            "padding": null,
            "right": null,
            "top": null,
            "visibility": null,
            "width": null
          }
        },
        "bde38b00c7024ee38cd1af04d30a17af": {
          "model_module": "@jupyter-widgets/controls",
          "model_name": "HTMLStyleModel",
          "model_module_version": "2.0.0",
          "state": {
            "_model_module": "@jupyter-widgets/controls",
            "_model_module_version": "2.0.0",
            "_model_name": "HTMLStyleModel",
            "_view_count": null,
            "_view_module": "@jupyter-widgets/base",
            "_view_module_version": "2.0.0",
            "_view_name": "StyleView",
            "background": null,
            "description_width": "",
            "font_size": null,
            "text_color": null
          }
        },
        "bf808c0a61bb416d821fdadd9077cd2a": {
          "model_module": "@jupyter-widgets/controls",
          "model_name": "HBoxModel",
          "model_module_version": "2.0.0",
          "state": {
            "_dom_classes": [],
            "_model_module": "@jupyter-widgets/controls",
            "_model_module_version": "2.0.0",
            "_model_name": "HBoxModel",
            "_view_count": null,
            "_view_module": "@jupyter-widgets/controls",
            "_view_module_version": "2.0.0",
            "_view_name": "HBoxView",
            "box_style": "",
            "children": [
              "IPY_MODEL_647b2d43ef3f4d5f89257e94e16f5a31",
              "IPY_MODEL_0d6ecb618ee442e2b844c1b685ac6876",
              "IPY_MODEL_4b9293b98415488d94ad899a0fac1694"
            ],
            "layout": "IPY_MODEL_d5cf9da5a7c14cc6b5a12f7f9c0f00e9",
            "tabbable": null,
            "tooltip": null
          }
        },
        "647b2d43ef3f4d5f89257e94e16f5a31": {
          "model_module": "@jupyter-widgets/controls",
          "model_name": "HTMLModel",
          "model_module_version": "2.0.0",
          "state": {
            "_dom_classes": [],
            "_model_module": "@jupyter-widgets/controls",
            "_model_module_version": "2.0.0",
            "_model_name": "HTMLModel",
            "_view_count": null,
            "_view_module": "@jupyter-widgets/controls",
            "_view_module_version": "2.0.0",
            "_view_name": "HTMLView",
            "description": "",
            "description_allow_html": false,
            "layout": "IPY_MODEL_295373774ac748f1a0e4ab74c2c9d779",
            "placeholder": "​",
            "style": "IPY_MODEL_4ee8163ccb9b4d64a3b3e7776a827f1d",
            "tabbable": null,
            "tooltip": null,
            "value": "100%"
          }
        },
        "0d6ecb618ee442e2b844c1b685ac6876": {
          "model_module": "@jupyter-widgets/controls",
          "model_name": "FloatProgressModel",
          "model_module_version": "2.0.0",
          "state": {
            "_dom_classes": [],
            "_model_module": "@jupyter-widgets/controls",
            "_model_module_version": "2.0.0",
            "_model_name": "FloatProgressModel",
            "_view_count": null,
            "_view_module": "@jupyter-widgets/controls",
            "_view_module_version": "2.0.0",
            "_view_name": "ProgressView",
            "bar_style": "success",
            "description": "",
            "description_allow_html": false,
            "layout": "IPY_MODEL_942f6c7d8e0e432692879e459c7aa378",
            "max": 351,
            "min": 0,
            "orientation": "horizontal",
            "style": "IPY_MODEL_382c9811dd5847db89de65dfc7820f40",
            "tabbable": null,
            "tooltip": null,
            "value": 351
          }
        },
        "4b9293b98415488d94ad899a0fac1694": {
          "model_module": "@jupyter-widgets/controls",
          "model_name": "HTMLModel",
          "model_module_version": "2.0.0",
          "state": {
            "_dom_classes": [],
            "_model_module": "@jupyter-widgets/controls",
            "_model_module_version": "2.0.0",
            "_model_name": "HTMLModel",
            "_view_count": null,
            "_view_module": "@jupyter-widgets/controls",
            "_view_module_version": "2.0.0",
            "_view_name": "HTMLView",
            "description": "",
            "description_allow_html": false,
            "layout": "IPY_MODEL_07d622377d594865a849bf572613aaef",
            "placeholder": "​",
            "style": "IPY_MODEL_98a1bb26294847818739e82be491489b",
            "tabbable": null,
            "tooltip": null,
            "value": " 351/351 [02:23&lt;00:00,  2.32it/s]"
          }
        },
        "d5cf9da5a7c14cc6b5a12f7f9c0f00e9": {
          "model_module": "@jupyter-widgets/base",
          "model_name": "LayoutModel",
          "model_module_version": "2.0.0",
          "state": {
            "_model_module": "@jupyter-widgets/base",
            "_model_module_version": "2.0.0",
            "_model_name": "LayoutModel",
            "_view_count": null,
            "_view_module": "@jupyter-widgets/base",
            "_view_module_version": "2.0.0",
            "_view_name": "LayoutView",
            "align_content": null,
            "align_items": null,
            "align_self": null,
            "border_bottom": null,
            "border_left": null,
            "border_right": null,
            "border_top": null,
            "bottom": null,
            "display": null,
            "flex": null,
            "flex_flow": null,
            "grid_area": null,
            "grid_auto_columns": null,
            "grid_auto_flow": null,
            "grid_auto_rows": null,
            "grid_column": null,
            "grid_gap": null,
            "grid_row": null,
            "grid_template_areas": null,
            "grid_template_columns": null,
            "grid_template_rows": null,
            "height": null,
            "justify_content": null,
            "justify_items": null,
            "left": null,
            "margin": null,
            "max_height": null,
            "max_width": null,
            "min_height": null,
            "min_width": null,
            "object_fit": null,
            "object_position": null,
            "order": null,
            "overflow": null,
            "padding": null,
            "right": null,
            "top": null,
            "visibility": null,
            "width": null
          }
        },
        "295373774ac748f1a0e4ab74c2c9d779": {
          "model_module": "@jupyter-widgets/base",
          "model_name": "LayoutModel",
          "model_module_version": "2.0.0",
          "state": {
            "_model_module": "@jupyter-widgets/base",
            "_model_module_version": "2.0.0",
            "_model_name": "LayoutModel",
            "_view_count": null,
            "_view_module": "@jupyter-widgets/base",
            "_view_module_version": "2.0.0",
            "_view_name": "LayoutView",
            "align_content": null,
            "align_items": null,
            "align_self": null,
            "border_bottom": null,
            "border_left": null,
            "border_right": null,
            "border_top": null,
            "bottom": null,
            "display": null,
            "flex": null,
            "flex_flow": null,
            "grid_area": null,
            "grid_auto_columns": null,
            "grid_auto_flow": null,
            "grid_auto_rows": null,
            "grid_column": null,
            "grid_gap": null,
            "grid_row": null,
            "grid_template_areas": null,
            "grid_template_columns": null,
            "grid_template_rows": null,
            "height": null,
            "justify_content": null,
            "justify_items": null,
            "left": null,
            "margin": null,
            "max_height": null,
            "max_width": null,
            "min_height": null,
            "min_width": null,
            "object_fit": null,
            "object_position": null,
            "order": null,
            "overflow": null,
            "padding": null,
            "right": null,
            "top": null,
            "visibility": null,
            "width": null
          }
        },
        "4ee8163ccb9b4d64a3b3e7776a827f1d": {
          "model_module": "@jupyter-widgets/controls",
          "model_name": "HTMLStyleModel",
          "model_module_version": "2.0.0",
          "state": {
            "_model_module": "@jupyter-widgets/controls",
            "_model_module_version": "2.0.0",
            "_model_name": "HTMLStyleModel",
            "_view_count": null,
            "_view_module": "@jupyter-widgets/base",
            "_view_module_version": "2.0.0",
            "_view_name": "StyleView",
            "background": null,
            "description_width": "",
            "font_size": null,
            "text_color": null
          }
        },
        "942f6c7d8e0e432692879e459c7aa378": {
          "model_module": "@jupyter-widgets/base",
          "model_name": "LayoutModel",
          "model_module_version": "2.0.0",
          "state": {
            "_model_module": "@jupyter-widgets/base",
            "_model_module_version": "2.0.0",
            "_model_name": "LayoutModel",
            "_view_count": null,
            "_view_module": "@jupyter-widgets/base",
            "_view_module_version": "2.0.0",
            "_view_name": "LayoutView",
            "align_content": null,
            "align_items": null,
            "align_self": null,
            "border_bottom": null,
            "border_left": null,
            "border_right": null,
            "border_top": null,
            "bottom": null,
            "display": null,
            "flex": null,
            "flex_flow": null,
            "grid_area": null,
            "grid_auto_columns": null,
            "grid_auto_flow": null,
            "grid_auto_rows": null,
            "grid_column": null,
            "grid_gap": null,
            "grid_row": null,
            "grid_template_areas": null,
            "grid_template_columns": null,
            "grid_template_rows": null,
            "height": null,
            "justify_content": null,
            "justify_items": null,
            "left": null,
            "margin": null,
            "max_height": null,
            "max_width": null,
            "min_height": null,
            "min_width": null,
            "object_fit": null,
            "object_position": null,
            "order": null,
            "overflow": null,
            "padding": null,
            "right": null,
            "top": null,
            "visibility": null,
            "width": null
          }
        },
        "382c9811dd5847db89de65dfc7820f40": {
          "model_module": "@jupyter-widgets/controls",
          "model_name": "ProgressStyleModel",
          "model_module_version": "2.0.0",
          "state": {
            "_model_module": "@jupyter-widgets/controls",
            "_model_module_version": "2.0.0",
            "_model_name": "ProgressStyleModel",
            "_view_count": null,
            "_view_module": "@jupyter-widgets/base",
            "_view_module_version": "2.0.0",
            "_view_name": "StyleView",
            "bar_color": null,
            "description_width": ""
          }
        },
        "07d622377d594865a849bf572613aaef": {
          "model_module": "@jupyter-widgets/base",
          "model_name": "LayoutModel",
          "model_module_version": "2.0.0",
          "state": {
            "_model_module": "@jupyter-widgets/base",
            "_model_module_version": "2.0.0",
            "_model_name": "LayoutModel",
            "_view_count": null,
            "_view_module": "@jupyter-widgets/base",
            "_view_module_version": "2.0.0",
            "_view_name": "LayoutView",
            "align_content": null,
            "align_items": null,
            "align_self": null,
            "border_bottom": null,
            "border_left": null,
            "border_right": null,
            "border_top": null,
            "bottom": null,
            "display": null,
            "flex": null,
            "flex_flow": null,
            "grid_area": null,
            "grid_auto_columns": null,
            "grid_auto_flow": null,
            "grid_auto_rows": null,
            "grid_column": null,
            "grid_gap": null,
            "grid_row": null,
            "grid_template_areas": null,
            "grid_template_columns": null,
            "grid_template_rows": null,
            "height": null,
            "justify_content": null,
            "justify_items": null,
            "left": null,
            "margin": null,
            "max_height": null,
            "max_width": null,
            "min_height": null,
            "min_width": null,
            "object_fit": null,
            "object_position": null,
            "order": null,
            "overflow": null,
            "padding": null,
            "right": null,
            "top": null,
            "visibility": null,
            "width": null
          }
        },
        "98a1bb26294847818739e82be491489b": {
          "model_module": "@jupyter-widgets/controls",
          "model_name": "HTMLStyleModel",
          "model_module_version": "2.0.0",
          "state": {
            "_model_module": "@jupyter-widgets/controls",
            "_model_module_version": "2.0.0",
            "_model_name": "HTMLStyleModel",
            "_view_count": null,
            "_view_module": "@jupyter-widgets/base",
            "_view_module_version": "2.0.0",
            "_view_name": "StyleView",
            "background": null,
            "description_width": "",
            "font_size": null,
            "text_color": null
          }
        },
        "137fc455a6ee4aa8ade63fa226c797cf": {
          "model_module": "@jupyter-widgets/controls",
          "model_name": "HBoxModel",
          "model_module_version": "1.5.0",
          "state": {
            "_dom_classes": [],
            "_model_module": "@jupyter-widgets/controls",
            "_model_module_version": "1.5.0",
            "_model_name": "HBoxModel",
            "_view_count": null,
            "_view_module": "@jupyter-widgets/controls",
            "_view_module_version": "1.5.0",
            "_view_name": "HBoxView",
            "box_style": "",
            "children": [
              "IPY_MODEL_ff8585d668d74227b38aa28bf83a5cf3",
              "IPY_MODEL_450e80cb08894db48db5580a61a427ab",
              "IPY_MODEL_51fa01ded24b48a1b2e837529f04df8e"
            ],
            "layout": "IPY_MODEL_247311a5acf343c7bf1a7dbba177a6a0"
          }
        },
        "ff8585d668d74227b38aa28bf83a5cf3": {
          "model_module": "@jupyter-widgets/controls",
          "model_name": "HTMLModel",
          "model_module_version": "1.5.0",
          "state": {
            "_dom_classes": [],
            "_model_module": "@jupyter-widgets/controls",
            "_model_module_version": "1.5.0",
            "_model_name": "HTMLModel",
            "_view_count": null,
            "_view_module": "@jupyter-widgets/controls",
            "_view_module_version": "1.5.0",
            "_view_name": "HTMLView",
            "description": "",
            "description_tooltip": null,
            "layout": "IPY_MODEL_24a9530c457e4696bca6c7dba6f26ffb",
            "placeholder": "​",
            "style": "IPY_MODEL_6cf45e66d404484fb356303b54a1d783",
            "value": "100%"
          }
        },
        "450e80cb08894db48db5580a61a427ab": {
          "model_module": "@jupyter-widgets/controls",
          "model_name": "FloatProgressModel",
          "model_module_version": "1.5.0",
          "state": {
            "_dom_classes": [],
            "_model_module": "@jupyter-widgets/controls",
            "_model_module_version": "1.5.0",
            "_model_name": "FloatProgressModel",
            "_view_count": null,
            "_view_module": "@jupyter-widgets/controls",
            "_view_module_version": "1.5.0",
            "_view_name": "ProgressView",
            "bar_style": "success",
            "description": "",
            "description_tooltip": null,
            "layout": "IPY_MODEL_28e0f743ac384fed944519fd2b682979",
            "max": 2895,
            "min": 0,
            "orientation": "horizontal",
            "style": "IPY_MODEL_31e5140f08b84f84b04c773a72e53522",
            "value": 2895
          }
        },
        "51fa01ded24b48a1b2e837529f04df8e": {
          "model_module": "@jupyter-widgets/controls",
          "model_name": "HTMLModel",
          "model_module_version": "1.5.0",
          "state": {
            "_dom_classes": [],
            "_model_module": "@jupyter-widgets/controls",
            "_model_module_version": "1.5.0",
            "_model_name": "HTMLModel",
            "_view_count": null,
            "_view_module": "@jupyter-widgets/controls",
            "_view_module_version": "1.5.0",
            "_view_name": "HTMLView",
            "description": "",
            "description_tooltip": null,
            "layout": "IPY_MODEL_4cfb95370b8f40f59f5fb9ae8501d312",
            "placeholder": "​",
            "style": "IPY_MODEL_36d61781c33748a896e35028cc247f70",
            "value": " 2895/2895 [00:07&lt;00:00, 343.14it/s]"
          }
        },
        "247311a5acf343c7bf1a7dbba177a6a0": {
          "model_module": "@jupyter-widgets/base",
          "model_name": "LayoutModel",
          "model_module_version": "1.2.0",
          "state": {
            "_model_module": "@jupyter-widgets/base",
            "_model_module_version": "1.2.0",
            "_model_name": "LayoutModel",
            "_view_count": null,
            "_view_module": "@jupyter-widgets/base",
            "_view_module_version": "1.2.0",
            "_view_name": "LayoutView",
            "align_content": null,
            "align_items": null,
            "align_self": null,
            "border": null,
            "bottom": null,
            "display": null,
            "flex": null,
            "flex_flow": null,
            "grid_area": null,
            "grid_auto_columns": null,
            "grid_auto_flow": null,
            "grid_auto_rows": null,
            "grid_column": null,
            "grid_gap": null,
            "grid_row": null,
            "grid_template_areas": null,
            "grid_template_columns": null,
            "grid_template_rows": null,
            "height": null,
            "justify_content": null,
            "justify_items": null,
            "left": null,
            "margin": null,
            "max_height": null,
            "max_width": null,
            "min_height": null,
            "min_width": null,
            "object_fit": null,
            "object_position": null,
            "order": null,
            "overflow": null,
            "overflow_x": null,
            "overflow_y": null,
            "padding": null,
            "right": null,
            "top": null,
            "visibility": null,
            "width": null
          }
        },
        "24a9530c457e4696bca6c7dba6f26ffb": {
          "model_module": "@jupyter-widgets/base",
          "model_name": "LayoutModel",
          "model_module_version": "1.2.0",
          "state": {
            "_model_module": "@jupyter-widgets/base",
            "_model_module_version": "1.2.0",
            "_model_name": "LayoutModel",
            "_view_count": null,
            "_view_module": "@jupyter-widgets/base",
            "_view_module_version": "1.2.0",
            "_view_name": "LayoutView",
            "align_content": null,
            "align_items": null,
            "align_self": null,
            "border": null,
            "bottom": null,
            "display": null,
            "flex": null,
            "flex_flow": null,
            "grid_area": null,
            "grid_auto_columns": null,
            "grid_auto_flow": null,
            "grid_auto_rows": null,
            "grid_column": null,
            "grid_gap": null,
            "grid_row": null,
            "grid_template_areas": null,
            "grid_template_columns": null,
            "grid_template_rows": null,
            "height": null,
            "justify_content": null,
            "justify_items": null,
            "left": null,
            "margin": null,
            "max_height": null,
            "max_width": null,
            "min_height": null,
            "min_width": null,
            "object_fit": null,
            "object_position": null,
            "order": null,
            "overflow": null,
            "overflow_x": null,
            "overflow_y": null,
            "padding": null,
            "right": null,
            "top": null,
            "visibility": null,
            "width": null
          }
        },
        "6cf45e66d404484fb356303b54a1d783": {
          "model_module": "@jupyter-widgets/controls",
          "model_name": "DescriptionStyleModel",
          "model_module_version": "1.5.0",
          "state": {
            "_model_module": "@jupyter-widgets/controls",
            "_model_module_version": "1.5.0",
            "_model_name": "DescriptionStyleModel",
            "_view_count": null,
            "_view_module": "@jupyter-widgets/base",
            "_view_module_version": "1.2.0",
            "_view_name": "StyleView",
            "description_width": ""
          }
        },
        "28e0f743ac384fed944519fd2b682979": {
          "model_module": "@jupyter-widgets/base",
          "model_name": "LayoutModel",
          "model_module_version": "1.2.0",
          "state": {
            "_model_module": "@jupyter-widgets/base",
            "_model_module_version": "1.2.0",
            "_model_name": "LayoutModel",
            "_view_count": null,
            "_view_module": "@jupyter-widgets/base",
            "_view_module_version": "1.2.0",
            "_view_name": "LayoutView",
            "align_content": null,
            "align_items": null,
            "align_self": null,
            "border": null,
            "bottom": null,
            "display": null,
            "flex": null,
            "flex_flow": null,
            "grid_area": null,
            "grid_auto_columns": null,
            "grid_auto_flow": null,
            "grid_auto_rows": null,
            "grid_column": null,
            "grid_gap": null,
            "grid_row": null,
            "grid_template_areas": null,
            "grid_template_columns": null,
            "grid_template_rows": null,
            "height": null,
            "justify_content": null,
            "justify_items": null,
            "left": null,
            "margin": null,
            "max_height": null,
            "max_width": null,
            "min_height": null,
            "min_width": null,
            "object_fit": null,
            "object_position": null,
            "order": null,
            "overflow": null,
            "overflow_x": null,
            "overflow_y": null,
            "padding": null,
            "right": null,
            "top": null,
            "visibility": null,
            "width": null
          }
        },
        "31e5140f08b84f84b04c773a72e53522": {
          "model_module": "@jupyter-widgets/controls",
          "model_name": "ProgressStyleModel",
          "model_module_version": "1.5.0",
          "state": {
            "_model_module": "@jupyter-widgets/controls",
            "_model_module_version": "1.5.0",
            "_model_name": "ProgressStyleModel",
            "_view_count": null,
            "_view_module": "@jupyter-widgets/base",
            "_view_module_version": "1.2.0",
            "_view_name": "StyleView",
            "bar_color": null,
            "description_width": ""
          }
        },
        "4cfb95370b8f40f59f5fb9ae8501d312": {
          "model_module": "@jupyter-widgets/base",
          "model_name": "LayoutModel",
          "model_module_version": "1.2.0",
          "state": {
            "_model_module": "@jupyter-widgets/base",
            "_model_module_version": "1.2.0",
            "_model_name": "LayoutModel",
            "_view_count": null,
            "_view_module": "@jupyter-widgets/base",
            "_view_module_version": "1.2.0",
            "_view_name": "LayoutView",
            "align_content": null,
            "align_items": null,
            "align_self": null,
            "border": null,
            "bottom": null,
            "display": null,
            "flex": null,
            "flex_flow": null,
            "grid_area": null,
            "grid_auto_columns": null,
            "grid_auto_flow": null,
            "grid_auto_rows": null,
            "grid_column": null,
            "grid_gap": null,
            "grid_row": null,
            "grid_template_areas": null,
            "grid_template_columns": null,
            "grid_template_rows": null,
            "height": null,
            "justify_content": null,
            "justify_items": null,
            "left": null,
            "margin": null,
            "max_height": null,
            "max_width": null,
            "min_height": null,
            "min_width": null,
            "object_fit": null,
            "object_position": null,
            "order": null,
            "overflow": null,
            "overflow_x": null,
            "overflow_y": null,
            "padding": null,
            "right": null,
            "top": null,
            "visibility": null,
            "width": null
          }
        },
        "36d61781c33748a896e35028cc247f70": {
          "model_module": "@jupyter-widgets/controls",
          "model_name": "DescriptionStyleModel",
          "model_module_version": "1.5.0",
          "state": {
            "_model_module": "@jupyter-widgets/controls",
            "_model_module_version": "1.5.0",
            "_model_name": "DescriptionStyleModel",
            "_view_count": null,
            "_view_module": "@jupyter-widgets/base",
            "_view_module_version": "1.2.0",
            "_view_name": "StyleView",
            "description_width": ""
          }
        },
        "61479b793d82434c95bed2cef5afce0c": {
          "model_module": "@jupyter-widgets/controls",
          "model_name": "HBoxModel",
          "model_module_version": "1.5.0",
          "state": {
            "_dom_classes": [],
            "_model_module": "@jupyter-widgets/controls",
            "_model_module_version": "1.5.0",
            "_model_name": "HBoxModel",
            "_view_count": null,
            "_view_module": "@jupyter-widgets/controls",
            "_view_module_version": "1.5.0",
            "_view_name": "HBoxView",
            "box_style": "",
            "children": [
              "IPY_MODEL_668d509b8a6949ed93bfb04ce9008c1f",
              "IPY_MODEL_5bede8a1778e47c8b627605c1e8881e0",
              "IPY_MODEL_2e1f682df62f439b95d17df9ba8f2278"
            ],
            "layout": "IPY_MODEL_8cb1617874f247809ea02a83598f2e12"
          }
        },
        "668d509b8a6949ed93bfb04ce9008c1f": {
          "model_module": "@jupyter-widgets/controls",
          "model_name": "HTMLModel",
          "model_module_version": "1.5.0",
          "state": {
            "_dom_classes": [],
            "_model_module": "@jupyter-widgets/controls",
            "_model_module_version": "1.5.0",
            "_model_name": "HTMLModel",
            "_view_count": null,
            "_view_module": "@jupyter-widgets/controls",
            "_view_module_version": "1.5.0",
            "_view_name": "HTMLView",
            "description": "",
            "description_tooltip": null,
            "layout": "IPY_MODEL_cfdfbacd64614c628b510b9ea323fdae",
            "placeholder": "​",
            "style": "IPY_MODEL_8810ea25865341ae8feb39a1dba3e669",
            "value": "100%"
          }
        },
        "5bede8a1778e47c8b627605c1e8881e0": {
          "model_module": "@jupyter-widgets/controls",
          "model_name": "FloatProgressModel",
          "model_module_version": "1.5.0",
          "state": {
            "_dom_classes": [],
            "_model_module": "@jupyter-widgets/controls",
            "_model_module_version": "1.5.0",
            "_model_name": "FloatProgressModel",
            "_view_count": null,
            "_view_module": "@jupyter-widgets/controls",
            "_view_module_version": "1.5.0",
            "_view_name": "ProgressView",
            "bar_style": "success",
            "description": "",
            "description_tooltip": null,
            "layout": "IPY_MODEL_6a2e3f35ca214ed5ab3fd398efa6dcdf",
            "max": 3112,
            "min": 0,
            "orientation": "horizontal",
            "style": "IPY_MODEL_e386152d9d41474f8d52580145ab7b09",
            "value": 3112
          }
        },
        "2e1f682df62f439b95d17df9ba8f2278": {
          "model_module": "@jupyter-widgets/controls",
          "model_name": "HTMLModel",
          "model_module_version": "1.5.0",
          "state": {
            "_dom_classes": [],
            "_model_module": "@jupyter-widgets/controls",
            "_model_module_version": "1.5.0",
            "_model_name": "HTMLModel",
            "_view_count": null,
            "_view_module": "@jupyter-widgets/controls",
            "_view_module_version": "1.5.0",
            "_view_name": "HTMLView",
            "description": "",
            "description_tooltip": null,
            "layout": "IPY_MODEL_0d62e412637d40cb995f949882add00a",
            "placeholder": "​",
            "style": "IPY_MODEL_ba748efb2cb94047a3ae5062f0ab10b9",
            "value": " 3112/3112 [00:05&lt;00:00, 636.42it/s]"
          }
        },
        "8cb1617874f247809ea02a83598f2e12": {
          "model_module": "@jupyter-widgets/base",
          "model_name": "LayoutModel",
          "model_module_version": "1.2.0",
          "state": {
            "_model_module": "@jupyter-widgets/base",
            "_model_module_version": "1.2.0",
            "_model_name": "LayoutModel",
            "_view_count": null,
            "_view_module": "@jupyter-widgets/base",
            "_view_module_version": "1.2.0",
            "_view_name": "LayoutView",
            "align_content": null,
            "align_items": null,
            "align_self": null,
            "border": null,
            "bottom": null,
            "display": null,
            "flex": null,
            "flex_flow": null,
            "grid_area": null,
            "grid_auto_columns": null,
            "grid_auto_flow": null,
            "grid_auto_rows": null,
            "grid_column": null,
            "grid_gap": null,
            "grid_row": null,
            "grid_template_areas": null,
            "grid_template_columns": null,
            "grid_template_rows": null,
            "height": null,
            "justify_content": null,
            "justify_items": null,
            "left": null,
            "margin": null,
            "max_height": null,
            "max_width": null,
            "min_height": null,
            "min_width": null,
            "object_fit": null,
            "object_position": null,
            "order": null,
            "overflow": null,
            "overflow_x": null,
            "overflow_y": null,
            "padding": null,
            "right": null,
            "top": null,
            "visibility": null,
            "width": null
          }
        },
        "cfdfbacd64614c628b510b9ea323fdae": {
          "model_module": "@jupyter-widgets/base",
          "model_name": "LayoutModel",
          "model_module_version": "1.2.0",
          "state": {
            "_model_module": "@jupyter-widgets/base",
            "_model_module_version": "1.2.0",
            "_model_name": "LayoutModel",
            "_view_count": null,
            "_view_module": "@jupyter-widgets/base",
            "_view_module_version": "1.2.0",
            "_view_name": "LayoutView",
            "align_content": null,
            "align_items": null,
            "align_self": null,
            "border": null,
            "bottom": null,
            "display": null,
            "flex": null,
            "flex_flow": null,
            "grid_area": null,
            "grid_auto_columns": null,
            "grid_auto_flow": null,
            "grid_auto_rows": null,
            "grid_column": null,
            "grid_gap": null,
            "grid_row": null,
            "grid_template_areas": null,
            "grid_template_columns": null,
            "grid_template_rows": null,
            "height": null,
            "justify_content": null,
            "justify_items": null,
            "left": null,
            "margin": null,
            "max_height": null,
            "max_width": null,
            "min_height": null,
            "min_width": null,
            "object_fit": null,
            "object_position": null,
            "order": null,
            "overflow": null,
            "overflow_x": null,
            "overflow_y": null,
            "padding": null,
            "right": null,
            "top": null,
            "visibility": null,
            "width": null
          }
        },
        "8810ea25865341ae8feb39a1dba3e669": {
          "model_module": "@jupyter-widgets/controls",
          "model_name": "DescriptionStyleModel",
          "model_module_version": "1.5.0",
          "state": {
            "_model_module": "@jupyter-widgets/controls",
            "_model_module_version": "1.5.0",
            "_model_name": "DescriptionStyleModel",
            "_view_count": null,
            "_view_module": "@jupyter-widgets/base",
            "_view_module_version": "1.2.0",
            "_view_name": "StyleView",
            "description_width": ""
          }
        },
        "6a2e3f35ca214ed5ab3fd398efa6dcdf": {
          "model_module": "@jupyter-widgets/base",
          "model_name": "LayoutModel",
          "model_module_version": "1.2.0",
          "state": {
            "_model_module": "@jupyter-widgets/base",
            "_model_module_version": "1.2.0",
            "_model_name": "LayoutModel",
            "_view_count": null,
            "_view_module": "@jupyter-widgets/base",
            "_view_module_version": "1.2.0",
            "_view_name": "LayoutView",
            "align_content": null,
            "align_items": null,
            "align_self": null,
            "border": null,
            "bottom": null,
            "display": null,
            "flex": null,
            "flex_flow": null,
            "grid_area": null,
            "grid_auto_columns": null,
            "grid_auto_flow": null,
            "grid_auto_rows": null,
            "grid_column": null,
            "grid_gap": null,
            "grid_row": null,
            "grid_template_areas": null,
            "grid_template_columns": null,
            "grid_template_rows": null,
            "height": null,
            "justify_content": null,
            "justify_items": null,
            "left": null,
            "margin": null,
            "max_height": null,
            "max_width": null,
            "min_height": null,
            "min_width": null,
            "object_fit": null,
            "object_position": null,
            "order": null,
            "overflow": null,
            "overflow_x": null,
            "overflow_y": null,
            "padding": null,
            "right": null,
            "top": null,
            "visibility": null,
            "width": null
          }
        },
        "e386152d9d41474f8d52580145ab7b09": {
          "model_module": "@jupyter-widgets/controls",
          "model_name": "ProgressStyleModel",
          "model_module_version": "1.5.0",
          "state": {
            "_model_module": "@jupyter-widgets/controls",
            "_model_module_version": "1.5.0",
            "_model_name": "ProgressStyleModel",
            "_view_count": null,
            "_view_module": "@jupyter-widgets/base",
            "_view_module_version": "1.2.0",
            "_view_name": "StyleView",
            "bar_color": null,
            "description_width": ""
          }
        },
        "0d62e412637d40cb995f949882add00a": {
          "model_module": "@jupyter-widgets/base",
          "model_name": "LayoutModel",
          "model_module_version": "1.2.0",
          "state": {
            "_model_module": "@jupyter-widgets/base",
            "_model_module_version": "1.2.0",
            "_model_name": "LayoutModel",
            "_view_count": null,
            "_view_module": "@jupyter-widgets/base",
            "_view_module_version": "1.2.0",
            "_view_name": "LayoutView",
            "align_content": null,
            "align_items": null,
            "align_self": null,
            "border": null,
            "bottom": null,
            "display": null,
            "flex": null,
            "flex_flow": null,
            "grid_area": null,
            "grid_auto_columns": null,
            "grid_auto_flow": null,
            "grid_auto_rows": null,
            "grid_column": null,
            "grid_gap": null,
            "grid_row": null,
            "grid_template_areas": null,
            "grid_template_columns": null,
            "grid_template_rows": null,
            "height": null,
            "justify_content": null,
            "justify_items": null,
            "left": null,
            "margin": null,
            "max_height": null,
            "max_width": null,
            "min_height": null,
            "min_width": null,
            "object_fit": null,
            "object_position": null,
            "order": null,
            "overflow": null,
            "overflow_x": null,
            "overflow_y": null,
            "padding": null,
            "right": null,
            "top": null,
            "visibility": null,
            "width": null
          }
        },
        "ba748efb2cb94047a3ae5062f0ab10b9": {
          "model_module": "@jupyter-widgets/controls",
          "model_name": "DescriptionStyleModel",
          "model_module_version": "1.5.0",
          "state": {
            "_model_module": "@jupyter-widgets/controls",
            "_model_module_version": "1.5.0",
            "_model_name": "DescriptionStyleModel",
            "_view_count": null,
            "_view_module": "@jupyter-widgets/base",
            "_view_module_version": "1.2.0",
            "_view_name": "StyleView",
            "description_width": ""
          }
        },
        "5a90cb52990b4c458dad02d7a89a8870": {
          "model_module": "@jupyter-widgets/controls",
          "model_name": "HBoxModel",
          "model_module_version": "1.5.0",
          "state": {
            "_dom_classes": [],
            "_model_module": "@jupyter-widgets/controls",
            "_model_module_version": "1.5.0",
            "_model_name": "HBoxModel",
            "_view_count": null,
            "_view_module": "@jupyter-widgets/controls",
            "_view_module_version": "1.5.0",
            "_view_name": "HBoxView",
            "box_style": "",
            "children": [
              "IPY_MODEL_cfd1d84cd8b9428b981376380f99d506",
              "IPY_MODEL_676fc5839cd9429b91515a50df7f372f",
              "IPY_MODEL_42c53442ccad4f70abd13f15f6ff15e3"
            ],
            "layout": "IPY_MODEL_d54e2df31cb94be7a7eca8c3ac8a8208"
          }
        },
        "cfd1d84cd8b9428b981376380f99d506": {
          "model_module": "@jupyter-widgets/controls",
          "model_name": "HTMLModel",
          "model_module_version": "1.5.0",
          "state": {
            "_dom_classes": [],
            "_model_module": "@jupyter-widgets/controls",
            "_model_module_version": "1.5.0",
            "_model_name": "HTMLModel",
            "_view_count": null,
            "_view_module": "@jupyter-widgets/controls",
            "_view_module_version": "1.5.0",
            "_view_name": "HTMLView",
            "description": "",
            "description_tooltip": null,
            "layout": "IPY_MODEL_45552c04de3a44e3bbac8ee3cff9b798",
            "placeholder": "​",
            "style": "IPY_MODEL_36d1a236229844c5b1276ee062d24f53",
            "value": "100%"
          }
        },
        "676fc5839cd9429b91515a50df7f372f": {
          "model_module": "@jupyter-widgets/controls",
          "model_name": "FloatProgressModel",
          "model_module_version": "1.5.0",
          "state": {
            "_dom_classes": [],
            "_model_module": "@jupyter-widgets/controls",
            "_model_module_version": "1.5.0",
            "_model_name": "FloatProgressModel",
            "_view_count": null,
            "_view_module": "@jupyter-widgets/controls",
            "_view_module_version": "1.5.0",
            "_view_name": "ProgressView",
            "bar_style": "success",
            "description": "",
            "description_tooltip": null,
            "layout": "IPY_MODEL_530783ea69d2451cb6aecbd05d187e9c",
            "max": 2895,
            "min": 0,
            "orientation": "horizontal",
            "style": "IPY_MODEL_03334e22c12345e9972198045bd99f71",
            "value": 2895
          }
        },
        "42c53442ccad4f70abd13f15f6ff15e3": {
          "model_module": "@jupyter-widgets/controls",
          "model_name": "HTMLModel",
          "model_module_version": "1.5.0",
          "state": {
            "_dom_classes": [],
            "_model_module": "@jupyter-widgets/controls",
            "_model_module_version": "1.5.0",
            "_model_name": "HTMLModel",
            "_view_count": null,
            "_view_module": "@jupyter-widgets/controls",
            "_view_module_version": "1.5.0",
            "_view_name": "HTMLView",
            "description": "",
            "description_tooltip": null,
            "layout": "IPY_MODEL_d6ebfa8be5b74e1181b788fb3fa31f42",
            "placeholder": "​",
            "style": "IPY_MODEL_fadeafd63712481cac282d00c4fc1094",
            "value": " 2895/2895 [00:07&lt;00:00, 454.31it/s]"
          }
        },
        "d54e2df31cb94be7a7eca8c3ac8a8208": {
          "model_module": "@jupyter-widgets/base",
          "model_name": "LayoutModel",
          "model_module_version": "1.2.0",
          "state": {
            "_model_module": "@jupyter-widgets/base",
            "_model_module_version": "1.2.0",
            "_model_name": "LayoutModel",
            "_view_count": null,
            "_view_module": "@jupyter-widgets/base",
            "_view_module_version": "1.2.0",
            "_view_name": "LayoutView",
            "align_content": null,
            "align_items": null,
            "align_self": null,
            "border": null,
            "bottom": null,
            "display": null,
            "flex": null,
            "flex_flow": null,
            "grid_area": null,
            "grid_auto_columns": null,
            "grid_auto_flow": null,
            "grid_auto_rows": null,
            "grid_column": null,
            "grid_gap": null,
            "grid_row": null,
            "grid_template_areas": null,
            "grid_template_columns": null,
            "grid_template_rows": null,
            "height": null,
            "justify_content": null,
            "justify_items": null,
            "left": null,
            "margin": null,
            "max_height": null,
            "max_width": null,
            "min_height": null,
            "min_width": null,
            "object_fit": null,
            "object_position": null,
            "order": null,
            "overflow": null,
            "overflow_x": null,
            "overflow_y": null,
            "padding": null,
            "right": null,
            "top": null,
            "visibility": null,
            "width": null
          }
        },
        "45552c04de3a44e3bbac8ee3cff9b798": {
          "model_module": "@jupyter-widgets/base",
          "model_name": "LayoutModel",
          "model_module_version": "1.2.0",
          "state": {
            "_model_module": "@jupyter-widgets/base",
            "_model_module_version": "1.2.0",
            "_model_name": "LayoutModel",
            "_view_count": null,
            "_view_module": "@jupyter-widgets/base",
            "_view_module_version": "1.2.0",
            "_view_name": "LayoutView",
            "align_content": null,
            "align_items": null,
            "align_self": null,
            "border": null,
            "bottom": null,
            "display": null,
            "flex": null,
            "flex_flow": null,
            "grid_area": null,
            "grid_auto_columns": null,
            "grid_auto_flow": null,
            "grid_auto_rows": null,
            "grid_column": null,
            "grid_gap": null,
            "grid_row": null,
            "grid_template_areas": null,
            "grid_template_columns": null,
            "grid_template_rows": null,
            "height": null,
            "justify_content": null,
            "justify_items": null,
            "left": null,
            "margin": null,
            "max_height": null,
            "max_width": null,
            "min_height": null,
            "min_width": null,
            "object_fit": null,
            "object_position": null,
            "order": null,
            "overflow": null,
            "overflow_x": null,
            "overflow_y": null,
            "padding": null,
            "right": null,
            "top": null,
            "visibility": null,
            "width": null
          }
        },
        "36d1a236229844c5b1276ee062d24f53": {
          "model_module": "@jupyter-widgets/controls",
          "model_name": "DescriptionStyleModel",
          "model_module_version": "1.5.0",
          "state": {
            "_model_module": "@jupyter-widgets/controls",
            "_model_module_version": "1.5.0",
            "_model_name": "DescriptionStyleModel",
            "_view_count": null,
            "_view_module": "@jupyter-widgets/base",
            "_view_module_version": "1.2.0",
            "_view_name": "StyleView",
            "description_width": ""
          }
        },
        "530783ea69d2451cb6aecbd05d187e9c": {
          "model_module": "@jupyter-widgets/base",
          "model_name": "LayoutModel",
          "model_module_version": "1.2.0",
          "state": {
            "_model_module": "@jupyter-widgets/base",
            "_model_module_version": "1.2.0",
            "_model_name": "LayoutModel",
            "_view_count": null,
            "_view_module": "@jupyter-widgets/base",
            "_view_module_version": "1.2.0",
            "_view_name": "LayoutView",
            "align_content": null,
            "align_items": null,
            "align_self": null,
            "border": null,
            "bottom": null,
            "display": null,
            "flex": null,
            "flex_flow": null,
            "grid_area": null,
            "grid_auto_columns": null,
            "grid_auto_flow": null,
            "grid_auto_rows": null,
            "grid_column": null,
            "grid_gap": null,
            "grid_row": null,
            "grid_template_areas": null,
            "grid_template_columns": null,
            "grid_template_rows": null,
            "height": null,
            "justify_content": null,
            "justify_items": null,
            "left": null,
            "margin": null,
            "max_height": null,
            "max_width": null,
            "min_height": null,
            "min_width": null,
            "object_fit": null,
            "object_position": null,
            "order": null,
            "overflow": null,
            "overflow_x": null,
            "overflow_y": null,
            "padding": null,
            "right": null,
            "top": null,
            "visibility": null,
            "width": null
          }
        },
        "03334e22c12345e9972198045bd99f71": {
          "model_module": "@jupyter-widgets/controls",
          "model_name": "ProgressStyleModel",
          "model_module_version": "1.5.0",
          "state": {
            "_model_module": "@jupyter-widgets/controls",
            "_model_module_version": "1.5.0",
            "_model_name": "ProgressStyleModel",
            "_view_count": null,
            "_view_module": "@jupyter-widgets/base",
            "_view_module_version": "1.2.0",
            "_view_name": "StyleView",
            "bar_color": null,
            "description_width": ""
          }
        },
        "d6ebfa8be5b74e1181b788fb3fa31f42": {
          "model_module": "@jupyter-widgets/base",
          "model_name": "LayoutModel",
          "model_module_version": "1.2.0",
          "state": {
            "_model_module": "@jupyter-widgets/base",
            "_model_module_version": "1.2.0",
            "_model_name": "LayoutModel",
            "_view_count": null,
            "_view_module": "@jupyter-widgets/base",
            "_view_module_version": "1.2.0",
            "_view_name": "LayoutView",
            "align_content": null,
            "align_items": null,
            "align_self": null,
            "border": null,
            "bottom": null,
            "display": null,
            "flex": null,
            "flex_flow": null,
            "grid_area": null,
            "grid_auto_columns": null,
            "grid_auto_flow": null,
            "grid_auto_rows": null,
            "grid_column": null,
            "grid_gap": null,
            "grid_row": null,
            "grid_template_areas": null,
            "grid_template_columns": null,
            "grid_template_rows": null,
            "height": null,
            "justify_content": null,
            "justify_items": null,
            "left": null,
            "margin": null,
            "max_height": null,
            "max_width": null,
            "min_height": null,
            "min_width": null,
            "object_fit": null,
            "object_position": null,
            "order": null,
            "overflow": null,
            "overflow_x": null,
            "overflow_y": null,
            "padding": null,
            "right": null,
            "top": null,
            "visibility": null,
            "width": null
          }
        },
        "fadeafd63712481cac282d00c4fc1094": {
          "model_module": "@jupyter-widgets/controls",
          "model_name": "DescriptionStyleModel",
          "model_module_version": "1.5.0",
          "state": {
            "_model_module": "@jupyter-widgets/controls",
            "_model_module_version": "1.5.0",
            "_model_name": "DescriptionStyleModel",
            "_view_count": null,
            "_view_module": "@jupyter-widgets/base",
            "_view_module_version": "1.2.0",
            "_view_name": "StyleView",
            "description_width": ""
          }
        }
      }
    }
  },
  "cells": [
    {
      "cell_type": "markdown",
      "metadata": {
        "id": "view-in-github",
        "colab_type": "text"
      },
      "source": [
        "<a href=\"https://colab.research.google.com/github/heokwon/Data-Handling-for-segmentation/blob/main/HAP_Dataset0823.ipynb\" target=\"_parent\"><img src=\"https://colab.research.google.com/assets/colab-badge.svg\" alt=\"Open In Colab\"/></a>"
      ]
    },
    {
      "cell_type": "markdown",
      "source": [
        "# Dataset Handling (rle2mask)\n",
        "\n",
        "rle : 3000x3000 픽셀 정보를 압축하여 메모리를 줄이는데 사용\n",
        "\n",
        "ex) id:10044 / rle : 1459676 77 1462675 82\n",
        "\n",
        "1459676 > 처음 1(mask)값이 시작하는 지점 ,77 > 1개수(끝지점)\n",
        "\n",
        "1462675 > 다음 1값이 시작하는 지점(1459676 에서 +77 후, 1462675 위치까지 0)"
      ],
      "metadata": {
        "id": "v0l6C7aO4QIB"
      }
    },
    {
      "cell_type": "markdown",
      "source": [
        "## Load Dataset"
      ],
      "metadata": {
        "id": "YQM1Rzn95Ipt"
      }
    },
    {
      "cell_type": "code",
      "execution_count": null,
      "metadata": {
        "id": "-a3lJ2eYvjk9",
        "colab": {
          "base_uri": "https://localhost:8080/"
        },
        "outputId": "ac707add-ed53-4545-865b-31063864a1a7"
      },
      "outputs": [
        {
          "output_type": "stream",
          "name": "stdout",
          "text": [
            "Downloading...\n",
            "From: https://drive.google.com/uc?id=1VnXyPKFiRL5Cvmw3UXLIK6Id93vjgKW5\n",
            "To: /content/hubmap-organ-segmentation.zip\n",
            "100% 6.20G/6.20G [01:13<00:00, 83.8MB/s]\n"
          ]
        }
      ],
      "source": [
        "!gdown  # 3000x3000 원본데이터셋"
      ]
    },
    {
      "cell_type": "code",
      "source": [
        "!unzip /content/hubmap-organ-segmentation.zip"
      ],
      "metadata": {
        "id": "Ewg7ZDNpXUam"
      },
      "execution_count": null,
      "outputs": []
    },
    {
      "cell_type": "code",
      "source": [
        "import os\n",
        "import numpy as np\n",
        "import pandas as pd\n",
        "from PIL import Image\n",
        "from tqdm.notebook import tqdm\n",
        "import matplotlib.pyplot as plt"
      ],
      "metadata": {
        "id": "unJOouAyv5rc"
      },
      "execution_count": null,
      "outputs": []
    },
    {
      "cell_type": "markdown",
      "source": [
        "## Read Csv"
      ],
      "metadata": {
        "id": "4hejFNKU5L6c"
      }
    },
    {
      "cell_type": "code",
      "source": [
        "df=pd.read_csv('/content/train.csv')\n",
        "df"
      ],
      "metadata": {
        "colab": {
          "base_uri": "https://localhost:8080/"
        },
        "id": "Fnu2nOFjwi50",
        "outputId": "7f629ca8-0f67-4376-e472-eae2ef30c02b"
      },
      "execution_count": null,
      "outputs": [
        {
          "output_type": "execute_result",
          "data": {
            "text/plain": [
              "        id           organ data_source  img_height  img_width  pixel_size  \\\n",
              "0    10044        prostate         HPA        3000       3000         0.4   \n",
              "1    10274        prostate         HPA        3000       3000         0.4   \n",
              "2    10392          spleen         HPA        3000       3000         0.4   \n",
              "3    10488            lung         HPA        3000       3000         0.4   \n",
              "4    10610          spleen         HPA        3000       3000         0.4   \n",
              "..     ...             ...         ...         ...        ...         ...   \n",
              "346   9517          kidney         HPA        3000       3000         0.4   \n",
              "347   9769          kidney         HPA        3070       3070         0.4   \n",
              "348   9777  largeintestine         HPA        3000       3000         0.4   \n",
              "349   9791          kidney         HPA        3000       3000         0.4   \n",
              "350   9904  largeintestine         HPA        3000       3000         0.4   \n",
              "\n",
              "     tissue_thickness                                                rle  \\\n",
              "0                   4  1459676 77 1462675 82 1465674 87 1468673 92 14...   \n",
              "1                   4  715707 2 718705 8 721703 11 724701 18 727692 3...   \n",
              "2                   4  1228631 20 1231629 24 1234624 40 1237623 47 12...   \n",
              "3                   4  3446519 15 3449517 17 3452514 20 3455510 24 34...   \n",
              "4                   4  478925 68 481909 87 484893 105 487863 154 4908...   \n",
              "..                ...                                                ...   \n",
              "346                 4  1611763 11 1614753 29 1617750 35 1620746 43 16...   \n",
              "347                 4  4030400 28 4033466 34 4036526 48 4039594 54 40...   \n",
              "348                 4  538473 13 541468 22 544463 30 547461 35 550459...   \n",
              "349                 4  334733 33 337729 43 340729 43 343725 51 346723...   \n",
              "350                 4  1009165 7 1012149 28 1015140 38 1018127 51 102...   \n",
              "\n",
              "      age     sex  \n",
              "0    37.0    Male  \n",
              "1    76.0    Male  \n",
              "2    82.0    Male  \n",
              "3    78.0    Male  \n",
              "4    21.0  Female  \n",
              "..    ...     ...  \n",
              "346  61.0    Male  \n",
              "347  28.0    Male  \n",
              "348  84.0    Male  \n",
              "349  28.0    Male  \n",
              "350  84.0    Male  \n",
              "\n",
              "[351 rows x 10 columns]"
            ],
            "text/html": [
              "\n",
              "  <div id=\"df-c65cea1c-5845-4fe0-9f1e-e900835167fb\">\n",
              "    <div class=\"colab-df-container\">\n",
              "      <div>\n",
              "<style scoped>\n",
              "    .dataframe tbody tr th:only-of-type {\n",
              "        vertical-align: middle;\n",
              "    }\n",
              "\n",
              "    .dataframe tbody tr th {\n",
              "        vertical-align: top;\n",
              "    }\n",
              "\n",
              "    .dataframe thead th {\n",
              "        text-align: right;\n",
              "    }\n",
              "</style>\n",
              "<table border=\"1\" class=\"dataframe\">\n",
              "  <thead>\n",
              "    <tr style=\"text-align: right;\">\n",
              "      <th></th>\n",
              "      <th>id</th>\n",
              "      <th>organ</th>\n",
              "      <th>data_source</th>\n",
              "      <th>img_height</th>\n",
              "      <th>img_width</th>\n",
              "      <th>pixel_size</th>\n",
              "      <th>tissue_thickness</th>\n",
              "      <th>rle</th>\n",
              "      <th>age</th>\n",
              "      <th>sex</th>\n",
              "    </tr>\n",
              "  </thead>\n",
              "  <tbody>\n",
              "    <tr>\n",
              "      <th>0</th>\n",
              "      <td>10044</td>\n",
              "      <td>prostate</td>\n",
              "      <td>HPA</td>\n",
              "      <td>3000</td>\n",
              "      <td>3000</td>\n",
              "      <td>0.4</td>\n",
              "      <td>4</td>\n",
              "      <td>1459676 77 1462675 82 1465674 87 1468673 92 14...</td>\n",
              "      <td>37.0</td>\n",
              "      <td>Male</td>\n",
              "    </tr>\n",
              "    <tr>\n",
              "      <th>1</th>\n",
              "      <td>10274</td>\n",
              "      <td>prostate</td>\n",
              "      <td>HPA</td>\n",
              "      <td>3000</td>\n",
              "      <td>3000</td>\n",
              "      <td>0.4</td>\n",
              "      <td>4</td>\n",
              "      <td>715707 2 718705 8 721703 11 724701 18 727692 3...</td>\n",
              "      <td>76.0</td>\n",
              "      <td>Male</td>\n",
              "    </tr>\n",
              "    <tr>\n",
              "      <th>2</th>\n",
              "      <td>10392</td>\n",
              "      <td>spleen</td>\n",
              "      <td>HPA</td>\n",
              "      <td>3000</td>\n",
              "      <td>3000</td>\n",
              "      <td>0.4</td>\n",
              "      <td>4</td>\n",
              "      <td>1228631 20 1231629 24 1234624 40 1237623 47 12...</td>\n",
              "      <td>82.0</td>\n",
              "      <td>Male</td>\n",
              "    </tr>\n",
              "    <tr>\n",
              "      <th>3</th>\n",
              "      <td>10488</td>\n",
              "      <td>lung</td>\n",
              "      <td>HPA</td>\n",
              "      <td>3000</td>\n",
              "      <td>3000</td>\n",
              "      <td>0.4</td>\n",
              "      <td>4</td>\n",
              "      <td>3446519 15 3449517 17 3452514 20 3455510 24 34...</td>\n",
              "      <td>78.0</td>\n",
              "      <td>Male</td>\n",
              "    </tr>\n",
              "    <tr>\n",
              "      <th>4</th>\n",
              "      <td>10610</td>\n",
              "      <td>spleen</td>\n",
              "      <td>HPA</td>\n",
              "      <td>3000</td>\n",
              "      <td>3000</td>\n",
              "      <td>0.4</td>\n",
              "      <td>4</td>\n",
              "      <td>478925 68 481909 87 484893 105 487863 154 4908...</td>\n",
              "      <td>21.0</td>\n",
              "      <td>Female</td>\n",
              "    </tr>\n",
              "    <tr>\n",
              "      <th>...</th>\n",
              "      <td>...</td>\n",
              "      <td>...</td>\n",
              "      <td>...</td>\n",
              "      <td>...</td>\n",
              "      <td>...</td>\n",
              "      <td>...</td>\n",
              "      <td>...</td>\n",
              "      <td>...</td>\n",
              "      <td>...</td>\n",
              "      <td>...</td>\n",
              "    </tr>\n",
              "    <tr>\n",
              "      <th>346</th>\n",
              "      <td>9517</td>\n",
              "      <td>kidney</td>\n",
              "      <td>HPA</td>\n",
              "      <td>3000</td>\n",
              "      <td>3000</td>\n",
              "      <td>0.4</td>\n",
              "      <td>4</td>\n",
              "      <td>1611763 11 1614753 29 1617750 35 1620746 43 16...</td>\n",
              "      <td>61.0</td>\n",
              "      <td>Male</td>\n",
              "    </tr>\n",
              "    <tr>\n",
              "      <th>347</th>\n",
              "      <td>9769</td>\n",
              "      <td>kidney</td>\n",
              "      <td>HPA</td>\n",
              "      <td>3070</td>\n",
              "      <td>3070</td>\n",
              "      <td>0.4</td>\n",
              "      <td>4</td>\n",
              "      <td>4030400 28 4033466 34 4036526 48 4039594 54 40...</td>\n",
              "      <td>28.0</td>\n",
              "      <td>Male</td>\n",
              "    </tr>\n",
              "    <tr>\n",
              "      <th>348</th>\n",
              "      <td>9777</td>\n",
              "      <td>largeintestine</td>\n",
              "      <td>HPA</td>\n",
              "      <td>3000</td>\n",
              "      <td>3000</td>\n",
              "      <td>0.4</td>\n",
              "      <td>4</td>\n",
              "      <td>538473 13 541468 22 544463 30 547461 35 550459...</td>\n",
              "      <td>84.0</td>\n",
              "      <td>Male</td>\n",
              "    </tr>\n",
              "    <tr>\n",
              "      <th>349</th>\n",
              "      <td>9791</td>\n",
              "      <td>kidney</td>\n",
              "      <td>HPA</td>\n",
              "      <td>3000</td>\n",
              "      <td>3000</td>\n",
              "      <td>0.4</td>\n",
              "      <td>4</td>\n",
              "      <td>334733 33 337729 43 340729 43 343725 51 346723...</td>\n",
              "      <td>28.0</td>\n",
              "      <td>Male</td>\n",
              "    </tr>\n",
              "    <tr>\n",
              "      <th>350</th>\n",
              "      <td>9904</td>\n",
              "      <td>largeintestine</td>\n",
              "      <td>HPA</td>\n",
              "      <td>3000</td>\n",
              "      <td>3000</td>\n",
              "      <td>0.4</td>\n",
              "      <td>4</td>\n",
              "      <td>1009165 7 1012149 28 1015140 38 1018127 51 102...</td>\n",
              "      <td>84.0</td>\n",
              "      <td>Male</td>\n",
              "    </tr>\n",
              "  </tbody>\n",
              "</table>\n",
              "<p>351 rows × 10 columns</p>\n",
              "</div>\n",
              "      <button class=\"colab-df-convert\" onclick=\"convertToInteractive('df-c65cea1c-5845-4fe0-9f1e-e900835167fb')\"\n",
              "              title=\"Convert this dataframe to an interactive table.\"\n",
              "              style=\"display:none;\">\n",
              "        \n",
              "  <svg xmlns=\"http://www.w3.org/2000/svg\" height=\"24px\"viewBox=\"0 0 24 24\"\n",
              "       width=\"24px\">\n",
              "    <path d=\"M0 0h24v24H0V0z\" fill=\"none\"/>\n",
              "    <path d=\"M18.56 5.44l.94 2.06.94-2.06 2.06-.94-2.06-.94-.94-2.06-.94 2.06-2.06.94zm-11 1L8.5 8.5l.94-2.06 2.06-.94-2.06-.94L8.5 2.5l-.94 2.06-2.06.94zm10 10l.94 2.06.94-2.06 2.06-.94-2.06-.94-.94-2.06-.94 2.06-2.06.94z\"/><path d=\"M17.41 7.96l-1.37-1.37c-.4-.4-.92-.59-1.43-.59-.52 0-1.04.2-1.43.59L10.3 9.45l-7.72 7.72c-.78.78-.78 2.05 0 2.83L4 21.41c.39.39.9.59 1.41.59.51 0 1.02-.2 1.41-.59l7.78-7.78 2.81-2.81c.8-.78.8-2.07 0-2.86zM5.41 20L4 18.59l7.72-7.72 1.47 1.35L5.41 20z\"/>\n",
              "  </svg>\n",
              "      </button>\n",
              "      \n",
              "  <style>\n",
              "    .colab-df-container {\n",
              "      display:flex;\n",
              "      flex-wrap:wrap;\n",
              "      gap: 12px;\n",
              "    }\n",
              "\n",
              "    .colab-df-convert {\n",
              "      background-color: #E8F0FE;\n",
              "      border: none;\n",
              "      border-radius: 50%;\n",
              "      cursor: pointer;\n",
              "      display: none;\n",
              "      fill: #1967D2;\n",
              "      height: 32px;\n",
              "      padding: 0 0 0 0;\n",
              "      width: 32px;\n",
              "    }\n",
              "\n",
              "    .colab-df-convert:hover {\n",
              "      background-color: #E2EBFA;\n",
              "      box-shadow: 0px 1px 2px rgba(60, 64, 67, 0.3), 0px 1px 3px 1px rgba(60, 64, 67, 0.15);\n",
              "      fill: #174EA6;\n",
              "    }\n",
              "\n",
              "    [theme=dark] .colab-df-convert {\n",
              "      background-color: #3B4455;\n",
              "      fill: #D2E3FC;\n",
              "    }\n",
              "\n",
              "    [theme=dark] .colab-df-convert:hover {\n",
              "      background-color: #434B5C;\n",
              "      box-shadow: 0px 1px 3px 1px rgba(0, 0, 0, 0.15);\n",
              "      filter: drop-shadow(0px 1px 2px rgba(0, 0, 0, 0.3));\n",
              "      fill: #FFFFFF;\n",
              "    }\n",
              "  </style>\n",
              "\n",
              "      <script>\n",
              "        const buttonEl =\n",
              "          document.querySelector('#df-c65cea1c-5845-4fe0-9f1e-e900835167fb button.colab-df-convert');\n",
              "        buttonEl.style.display =\n",
              "          google.colab.kernel.accessAllowed ? 'block' : 'none';\n",
              "\n",
              "        async function convertToInteractive(key) {\n",
              "          const element = document.querySelector('#df-c65cea1c-5845-4fe0-9f1e-e900835167fb');\n",
              "          const dataTable =\n",
              "            await google.colab.kernel.invokeFunction('convertToInteractive',\n",
              "                                                     [key], {});\n",
              "          if (!dataTable) return;\n",
              "\n",
              "          const docLinkHtml = 'Like what you see? Visit the ' +\n",
              "            '<a target=\"_blank\" href=https://colab.research.google.com/notebooks/data_table.ipynb>data table notebook</a>'\n",
              "            + ' to learn more about interactive tables.';\n",
              "          element.innerHTML = '';\n",
              "          dataTable['output_type'] = 'display_data';\n",
              "          await google.colab.output.renderOutput(dataTable, element);\n",
              "          const docLink = document.createElement('div');\n",
              "          docLink.innerHTML = docLinkHtml;\n",
              "          element.appendChild(docLink);\n",
              "        }\n",
              "      </script>\n",
              "    </div>\n",
              "  </div>\n",
              "  "
            ]
          },
          "metadata": {},
          "execution_count": 5
        }
      ]
    },
    {
      "cell_type": "markdown",
      "source": [
        "## Mask2rle"
      ],
      "metadata": {
        "id": "Cgt2r9Ku5O3n"
      }
    },
    {
      "cell_type": "code",
      "source": [
        "# def rle_encode_less_memory(img):\n",
        "#     pixels = img.T.flatten()\n",
        "#     pixels[0] = 0\n",
        "#     pixels[-1] = 0\n",
        "#     runs = np.where(pixels[1:] != pixels[:-1])[0] + 2\n",
        "#     runs[1::2] -= runs[::2]\n",
        "#     return ' '.join(str(x) for x in runs)"
      ],
      "metadata": {
        "id": "CGnHTPqExeU5"
      },
      "execution_count": null,
      "outputs": []
    },
    {
      "cell_type": "markdown",
      "source": [
        "## rleToMask"
      ],
      "metadata": {
        "id": "xNVfI7l-5TSK"
      }
    },
    {
      "cell_type": "code",
      "source": [
        "def rleToMask(rleString,height,width,class_num):\n",
        "  rows,cols = height,width\n",
        "  rleNumbers = [int(numstring) for numstring in rleString.split(' ')]\n",
        "  rlePairs = np.array(rleNumbers).reshape(-1,2)\n",
        "  img = np.zeros(rows*cols,dtype=np.uint8)\n",
        "  for index,length in rlePairs:\n",
        "    index -= 1\n",
        "    img[index:index+length] = class_num\n",
        "  img = img.reshape(cols,rows)\n",
        "  img = img.T\n",
        "  return img"
      ],
      "metadata": {
        "id": "QdUC-ep1zgaR"
      },
      "execution_count": null,
      "outputs": []
    },
    {
      "cell_type": "markdown",
      "source": [
        "### Binary Dataset"
      ],
      "metadata": {
        "id": "e-3TaZgrjnq1"
      }
    },
    {
      "cell_type": "code",
      "source": [
        "!mkdir train_labels"
      ],
      "metadata": {
        "id": "JN3kvi3r1pAO"
      },
      "execution_count": null,
      "outputs": []
    },
    {
      "cell_type": "code",
      "source": [
        "for idx in range(len(df)):\n",
        "    img_id = df.loc[idx]['id']\n",
        "    img_h = df.loc[idx]['img_height']\n",
        "    img_w = df.loc[idx]['img_width']\n",
        "    img_rle = df.loc[idx]['rle']\n",
        "    \n",
        "    mask_img = rleToMask(img_rle,img_h,img_w,1)\n",
        "    mask_img = Image.fromarray(mask_img)\n",
        "    mask_img.save(f'/content/train_labels/{img_id}.png')"
      ],
      "metadata": {
        "id": "6zCLu-Fnjnat"
      },
      "execution_count": null,
      "outputs": []
    },
    {
      "cell_type": "markdown",
      "source": [
        "### Multi Dataset"
      ],
      "metadata": {
        "id": "dMUm8r2VjkGN"
      }
    },
    {
      "cell_type": "code",
      "source": [
        "!mkdir mask_img"
      ],
      "metadata": {
        "id": "zQFQQBdTkBQ6"
      },
      "execution_count": null,
      "outputs": []
    },
    {
      "cell_type": "code",
      "source": [
        "for idx in range(len(df)):\n",
        "    img_id = df.loc[idx]['id']\n",
        "    img_h = df.loc[idx]['img_height']\n",
        "    img_w = df.loc[idx]['img_width']\n",
        "    img_rle = df.loc[idx]['rle']\n",
        "    class_name = df.loc[idx]['organ']\n",
        "\n",
        "    if class_name == 'kidney':\n",
        "      \n",
        "      mask_img = rleToMask(img_rle,img_h,img_w,1)\n",
        "\n",
        "    elif class_name == 'prostate':\n",
        "\n",
        "      mask_img = rleToMask(img_rle,img_h,img_w,2)\n",
        "\n",
        "    elif class_name == 'largeintestine':\n",
        "\n",
        "      mask_img = rleToMask(img_rle,img_h,img_w,3)\n",
        "      \n",
        "    elif class_name == 'spleen':\n",
        "\n",
        "      mask_img = rleToMask(img_rle,img_h,img_w,4)\n",
        "\n",
        "    elif class_name == 'lung':\n",
        "\n",
        "      mask_img = rleToMask(img_rle,img_h,img_w,5)  \n",
        "\n",
        "    mask_img = Image.fromarray(mask_img)\n",
        "    mask_img.save(f'/content/mask_img/{img_id}.png')"
      ],
      "metadata": {
        "id": "VKc4R1kjyVFM"
      },
      "execution_count": null,
      "outputs": []
    },
    {
      "cell_type": "code",
      "source": [
        "from google.colab import drive\n",
        "drive.mount('/content/drive')"
      ],
      "metadata": {
        "colab": {
          "base_uri": "https://localhost:8080/"
        },
        "id": "E7WfbaeIhLUf",
        "outputId": "b5a3c005-8a97-4b9f-862e-8811a933253b"
      },
      "execution_count": null,
      "outputs": [
        {
          "output_type": "stream",
          "name": "stdout",
          "text": [
            "Mounted at /content/drive\n"
          ]
        }
      ]
    },
    {
      "cell_type": "markdown",
      "source": [
        "### Inference"
      ],
      "metadata": {
        "id": "nDsX6wLljbQR"
      }
    },
    {
      "cell_type": "code",
      "source": [
        "import os\n",
        "import natsort\n",
        "\n",
        "img_path='/content/512x512_Binary/512x512_images/'\n",
        "mask_path='/content/MultiDataset/512x512_labels/'\n",
        "img_lst=os.listdir(img_path)\n",
        "mask_lst=os.listdir(mask_path)\n",
        "img_lst=natsort.natsorted(img_lst)\n",
        "mask_lst=natsort.natsorted(mask_lst)\n",
        "\n",
        "for img,mask in zip(img_lst, mask_lst):\n",
        "    img_name=img.split('.')[0]\n",
        "    mask_name=mask.split('.')[0]\n",
        "    img_dir=os.path.join(img_path,img)\n",
        "    mask_dir=os.path.join(mask_path,mask)\n",
        "    \n",
        "    image=Image.open(img_dir)\n",
        "    mask_img=Image.open(mask_dir)\n",
        "    plt.figure(figsize=(20, 20))\n",
        "    plt.subplot(1,2,1)\n",
        "    plt.imshow(image)\n",
        "    plt.subplot(1,2,2)\n",
        "    plt.imshow(mask_img)\n",
        "    print(img_name,mask_name )\n",
        "    plt.show()"
      ],
      "metadata": {
        "id": "K941pJBGZi1F"
      },
      "execution_count": null,
      "outputs": []
    },
    {
      "cell_type": "code",
      "source": [
        "!mv /content/512x512_Multi.zip /content/drive/MyDrive/data/MMSeg_zip"
      ],
      "metadata": {
        "id": "CMaM0TTghLRR"
      },
      "execution_count": null,
      "outputs": []
    },
    {
      "cell_type": "markdown",
      "source": [
        "### Test"
      ],
      "metadata": {
        "id": "lzBm5RrY-knZ"
      }
    },
    {
      "cell_type": "code",
      "source": [
        "test_img = Image.open('/content/train_labels/10044.png')\n",
        "plt.imshow(test_img)"
      ],
      "metadata": {
        "id": "tyV-e9rfztzW"
      },
      "execution_count": null,
      "outputs": []
    },
    {
      "cell_type": "markdown",
      "source": [
        "## Resize"
      ],
      "metadata": {
        "id": "zHTTURWp-phY"
      }
    },
    {
      "cell_type": "code",
      "source": [
        "!mkdir Binary_512x512_Crop\n",
        "!mkdir /content/Binary_512x512_Crop/images\n",
        "!mkdir /content/Binary_512x512_Crop/labels"
      ],
      "metadata": {
        "id": "7nK3_2VC78bu"
      },
      "execution_count": null,
      "outputs": []
    },
    {
      "cell_type": "code",
      "source": [
        "import os\n",
        "from PIL import Image\n",
        "from tqdm.notebook import tqdm\n",
        "\n",
        "def resizing_jpg(src,lst,size,des):\n",
        "    for img in lst:\n",
        "        name = img.split('.')[0]\n",
        "        dir=os.path.join(src,img)\n",
        "        img_re = Image.open(dir)\n",
        "        img_re = img_re.resize((size, size))\n",
        "        img_re.save(des+name+'.jpg')"
      ],
      "metadata": {
        "id": "xnfwUZRK_ZJY"
      },
      "execution_count": null,
      "outputs": []
    },
    {
      "cell_type": "code",
      "source": [
        "def resizing_png(src,lst,size,des):\n",
        "    for img in tqdm(lst):\n",
        "        name = img.split('.')[0]\n",
        "        dir=os.path.join(src,img)\n",
        "        img_re = Image.open(dir)\n",
        "        img_re = img_re.resize((size, size))\n",
        "        img_re.save(des+name+'.png')"
      ],
      "metadata": {
        "id": "Vnyk_3dfDU0u"
      },
      "execution_count": null,
      "outputs": []
    },
    {
      "cell_type": "code",
      "source": [
        "src='/content/crop_dataset/images/'\n",
        "lst=os.listdir(src)\n",
        "size=512\n",
        "des='/content/Binary_512x512_Crop/images/'\n",
        "resizing_jpg(src,lst,size,des)"
      ],
      "metadata": {
        "id": "MZzc8Lif-uOT"
      },
      "execution_count": null,
      "outputs": []
    },
    {
      "cell_type": "code",
      "source": [
        "label_src='/content/crop_dataset/labels/'\n",
        "label_lst=os.listdir(label_src)\n",
        "size=512\n",
        "label_des='/content/Binary_512x512_Crop/labels/'\n",
        "\n",
        "resizing_png(label_src,label_lst,size,label_des)"
      ],
      "metadata": {
        "colab": {
          "base_uri": "https://localhost:8080/",
          "height": 17,
          "referenced_widgets": [
            "21022a1b180047b197a24605978cc400",
            "5e455210920c4028ae121eac8ca12680",
            "e0a0623114b74011b66a2d253b5f38f7",
            "154a5d53ea0041c8882f9c54f0479e97",
            "cd7fc4479abb47838d4dbdfb7dd4792e",
            "bdb35c8cbaa64acdb9a5e051a01724dc",
            "696155e86e3b441f8f2c66efb19b706c",
            "db24e0cc017e4361ad9bc460fe056531",
            "771bbe917a9245a0a511ae49294c81ee",
            "3a2c33db4fc94feb976010137fbd1722",
            "bde38b00c7024ee38cd1af04d30a17af"
          ]
        },
        "id": "2FjidzK5B5dO",
        "outputId": "fa2f640d-c830-4011-d48e-b2707e8e8126"
      },
      "execution_count": null,
      "outputs": [
        {
          "output_type": "display_data",
          "data": {
            "text/plain": [
              "  0%|          | 0/351 [00:00<?, ?it/s]"
            ],
            "application/vnd.jupyter.widget-view+json": {
              "version_major": 2,
              "version_minor": 0,
              "model_id": "21022a1b180047b197a24605978cc400"
            },
            "application/json": {
              "n": 0,
              "total": 351,
              "elapsed": 0.17666244506835938,
              "ncols": null,
              "nrows": null,
              "prefix": "",
              "ascii": false,
              "unit": "it",
              "unit_scale": false,
              "rate": null,
              "bar_format": null,
              "postfix": null,
              "unit_divisor": 1000,
              "initial": 0,
              "colour": null
            }
          },
          "metadata": {}
        }
      ]
    },
    {
      "cell_type": "code",
      "source": [
        "!zip Binary_512x512_Crop.zip -r ./Binary_512x512_Crop"
      ],
      "metadata": {
        "id": "91cRFGbs9FL6"
      },
      "execution_count": null,
      "outputs": []
    },
    {
      "cell_type": "code",
      "source": [
        "!mv /content/Binary_512x512_Crop.zip /content/drive/MyDrive/MMSeg_data"
      ],
      "metadata": {
        "id": "G9E3GVw39Rxq"
      },
      "execution_count": null,
      "outputs": []
    },
    {
      "cell_type": "markdown",
      "source": [
        "## Zip, Move"
      ],
      "metadata": {
        "id": "DJMgWSX75gvK"
      }
    },
    {
      "cell_type": "code",
      "source": [
        "#@title\n",
        "from google.colab import drive\n",
        "drive.mount('/content/drive')"
      ],
      "metadata": {
        "colab": {
          "base_uri": "https://localhost:8080/"
        },
        "id": "HSMUA_0-6N2I",
        "outputId": "127da8a7-963e-4901-ead3-0ad5ea1fd047",
        "cellView": "form"
      },
      "execution_count": null,
      "outputs": [
        {
          "output_type": "stream",
          "name": "stdout",
          "text": [
            "Mounted at /content/drive\n"
          ]
        }
      ]
    },
    {
      "cell_type": "code",
      "source": [
        "#@title\n",
        "!mkdir 512x512_Binary\n",
        "\n",
        "!cp /content/sample_submission.csv /content/512x512_Binary\n",
        "!cp /content/train.csv /content/512x512_Binary\n",
        "!cp /content/test.csv /content/512x512_Binary"
      ],
      "metadata": {
        "id": "AOzulFAq2sXy",
        "cellView": "form"
      },
      "execution_count": null,
      "outputs": []
    },
    {
      "cell_type": "code",
      "source": [
        "import shutil\n",
        "# src1='/content/512x512_images'\n",
        "src2='/content/512x512_labels'\n",
        "des='/content/512x512_Binary'\n",
        "# shutil.move(src1,des)\n",
        "shutil.move(src2,des)"
      ],
      "metadata": {
        "id": "KFO6FxsF6vK2"
      },
      "execution_count": null,
      "outputs": []
    },
    {
      "cell_type": "code",
      "source": [
        "#@title\n",
        "!zip 512x512_Binary.zip -r ./512x512_Binary\n",
        "!mv /content/512x512_Binary.zip /content/drive/MyDrive/data/MMSeg_zip"
      ],
      "metadata": {
        "id": "2Zwly8h66NcA",
        "cellView": "form"
      },
      "execution_count": null,
      "outputs": []
    },
    {
      "cell_type": "markdown",
      "source": [
        "## Crop"
      ],
      "metadata": {
        "id": "wNw07aSG1MzU"
      }
    },
    {
      "cell_type": "code",
      "source": [
        "#@title\n",
        "!mkdir crop_dataset\n",
        "!mkdir /content/crop_dataset/images\n",
        "!mkdir /content/crop_dataset/labels"
      ],
      "metadata": {
        "id": "jQe8AYAD3ZH0",
        "cellView": "form"
      },
      "execution_count": null,
      "outputs": []
    },
    {
      "cell_type": "code",
      "source": [
        "img_path = '/content/train_images/'\n",
        "mask_path = '/content/train_labels/'\n",
        "\n",
        "img_name_list = os.listdir(img_path)\n",
        "\n",
        "for img in tqdm(img_name_list):\n",
        "    name = img.split('.')[0]\n",
        "    mask_img = name + '.png'\n",
        "\n",
        "    origin_img = Image.open(img_path + img)\n",
        "    mask_img = Image.open(mask_path + mask_img)\n",
        "\n",
        "    h, w = origin_img.size\n",
        "    crop_start_x = (h - 2048) / 2\n",
        "    crop_start_y = (w - 2048) / 2\n",
        "    crop_end_x = 2048 + crop_start_x\n",
        "    crop_end_y = 2048 + crop_start_y\n",
        "\n",
        "    crop_img = origin_img.crop((crop_start_x, crop_start_y, crop_end_x, crop_end_y))\n",
        "    crop_mask = mask_img.crop((crop_start_x, crop_start_y, crop_end_x, crop_end_y))\n",
        "\n",
        "    crop_img.save(f'/content/crop_dataset/images/{name}.jpg')\n",
        "    crop_mask.save(f'/content/crop_dataset/labels/{name}.png')"
      ],
      "metadata": {
        "colab": {
          "base_uri": "https://localhost:8080/",
          "height": 17,
          "referenced_widgets": [
            "bf808c0a61bb416d821fdadd9077cd2a",
            "647b2d43ef3f4d5f89257e94e16f5a31",
            "0d6ecb618ee442e2b844c1b685ac6876",
            "4b9293b98415488d94ad899a0fac1694",
            "d5cf9da5a7c14cc6b5a12f7f9c0f00e9",
            "295373774ac748f1a0e4ab74c2c9d779",
            "4ee8163ccb9b4d64a3b3e7776a827f1d",
            "942f6c7d8e0e432692879e459c7aa378",
            "382c9811dd5847db89de65dfc7820f40",
            "07d622377d594865a849bf572613aaef",
            "98a1bb26294847818739e82be491489b"
          ]
        },
        "id": "m4t0B3uZ1RFW",
        "outputId": "a770bb2b-cf95-4a24-c1ab-6844ee3c98c1"
      },
      "execution_count": null,
      "outputs": [
        {
          "output_type": "display_data",
          "data": {
            "text/plain": [
              "  0%|          | 0/351 [00:00<?, ?it/s]"
            ],
            "application/vnd.jupyter.widget-view+json": {
              "version_major": 2,
              "version_minor": 0,
              "model_id": "bf808c0a61bb416d821fdadd9077cd2a"
            },
            "application/json": {
              "n": 0,
              "total": 351,
              "elapsed": 0.025548934936523438,
              "ncols": null,
              "nrows": null,
              "prefix": "",
              "ascii": false,
              "unit": "it",
              "unit_scale": false,
              "rate": null,
              "bar_format": null,
              "postfix": null,
              "unit_divisor": 1000,
              "initial": 0,
              "colour": null
            }
          },
          "metadata": {}
        }
      ]
    },
    {
      "cell_type": "code",
      "source": [
        "#@title\n",
        "!zip 2048x2048_Binary_Crop.zip -r ./crop_dataset"
      ],
      "metadata": {
        "id": "0MjykTrL6XyR",
        "cellView": "form"
      },
      "execution_count": null,
      "outputs": []
    },
    {
      "cell_type": "code",
      "source": [
        "#@title\n",
        "from google.colab import drive\n",
        "drive.mount('/content/drive')"
      ],
      "metadata": {
        "colab": {
          "base_uri": "https://localhost:8080/"
        },
        "id": "tQDiPNKjC1qV",
        "outputId": "862fd1bc-ff5f-4fa0-c596-bb1bd2a3e997",
        "cellView": "form"
      },
      "execution_count": null,
      "outputs": [
        {
          "output_type": "stream",
          "name": "stdout",
          "text": [
            "Mounted at /content/drive\n"
          ]
        }
      ]
    },
    {
      "cell_type": "code",
      "source": [
        "#@title\n",
        "!mv /content/2048x2048_Binary_Crop.zip /content/drive/MyDrive/MMSeg_data"
      ],
      "metadata": {
        "id": "KP8oObvx61_L",
        "cellView": "form"
      },
      "execution_count": null,
      "outputs": []
    },
    {
      "cell_type": "markdown",
      "source": [
        "## 2048x2048 -> 512x512 16개 (Crop)"
      ],
      "metadata": {
        "id": "aP3sflUfJBVz"
      }
    },
    {
      "cell_type": "code",
      "source": [
        "from google.colab import drive\n",
        "drive.mount('/content/drive')"
      ],
      "metadata": {
        "colab": {
          "base_uri": "https://localhost:8080/"
        },
        "id": "czllGT4Sk3O3",
        "outputId": "639f6dd9-afe7-45e2-dae2-83ceaf8e8dc9"
      },
      "execution_count": null,
      "outputs": [
        {
          "output_type": "stream",
          "name": "stdout",
          "text": [
            "Mounted at /content/drive\n"
          ]
        }
      ]
    },
    {
      "cell_type": "code",
      "source": [
        "!gdown "
      ],
      "metadata": {
        "colab": {
          "base_uri": "https://localhost:8080/"
        },
        "id": "1T1xfEjU8AyS",
        "outputId": "4aad46d3-fd51-4812-dad9-af0a09fcb883"
      },
      "execution_count": null,
      "outputs": [
        {
          "output_type": "stream",
          "name": "stdout",
          "text": [
            "Downloading...\n",
            "From: https://drive.google.com/uc?id=1nqxW7dxlyoCZcwz8ht4Gx2Gttu7qQUqq\n",
            "To: /content/Crop_2048x2048_Multi.zip\n",
            "100% 320M/320M [00:01<00:00, 169MB/s]\n"
          ]
        }
      ]
    },
    {
      "cell_type": "code",
      "source": [
        "!unzip /content/Crop_2048x2048_Multi.zip"
      ],
      "metadata": {
        "id": "oDk6xskT8c8P"
      },
      "execution_count": null,
      "outputs": []
    },
    {
      "cell_type": "code",
      "source": [
        "!rm -rf Crop_512x512_Multi"
      ],
      "metadata": {
        "id": "Bog0z9cI6bW6"
      },
      "execution_count": null,
      "outputs": []
    },
    {
      "cell_type": "code",
      "source": [
        "!mkdir Crop_512x512_Multi\n",
        "!mkdir /content/Crop_512x512_Multi/images\n",
        "!mkdir /content/Crop_512x512_Multi/labels"
      ],
      "metadata": {
        "id": "XOZajrXGi5O3"
      },
      "execution_count": null,
      "outputs": []
    },
    {
      "cell_type": "code",
      "source": [
        "!rm -rf /content/Crop_512x512_Multi/labels\n",
        "!mkdir /content/Crop_512x512_Multi/labels"
      ],
      "metadata": {
        "id": "LhjxwybLo3Rq"
      },
      "execution_count": null,
      "outputs": []
    },
    {
      "cell_type": "markdown",
      "source": [
        "### 1"
      ],
      "metadata": {
        "id": "pzmmoqjhMJaN"
      }
    },
    {
      "cell_type": "code",
      "source": [
        "from PIL import Image\n",
        "from itertools import product\n",
        "\n",
        "points = product(range(0,4),range(0,4))\n",
        "for x ,y in points: \n",
        "    # print(x,y)\n",
        "    min_x = x*512\n",
        "    max_x = (x+1)*512\n",
        "    min_y = y*512\n",
        "    max_y = (y+1)*512\n",
        "    area=(min_x,min_y,max_x,max_y)\n",
        "    print(area)"
      ],
      "metadata": {
        "colab": {
          "base_uri": "https://localhost:8080/"
        },
        "id": "TZchoRpLt0em",
        "outputId": "ee1dd661-b7e0-4f70-b716-670372fc920a"
      },
      "execution_count": null,
      "outputs": [
        {
          "output_type": "stream",
          "name": "stdout",
          "text": [
            "(0, 0, 512, 512)\n",
            "(0, 512, 512, 1024)\n",
            "(0, 1024, 512, 1536)\n",
            "(0, 1536, 512, 2048)\n",
            "(512, 0, 1024, 512)\n",
            "(512, 512, 1024, 1024)\n",
            "(512, 1024, 1024, 1536)\n",
            "(512, 1536, 1024, 2048)\n",
            "(1024, 0, 1536, 512)\n",
            "(1024, 512, 1536, 1024)\n",
            "(1024, 1024, 1536, 1536)\n",
            "(1024, 1536, 1536, 2048)\n",
            "(1536, 0, 2048, 512)\n",
            "(1536, 512, 2048, 1024)\n",
            "(1536, 1024, 2048, 1536)\n",
            "(1536, 1536, 2048, 2048)\n"
          ]
        }
      ]
    },
    {
      "cell_type": "code",
      "source": [
        "import os\n",
        "import natsort\n",
        "from PIL import Image\n",
        "from itertools import product\n",
        "from tqdm.notebook import tqdm\n",
        "\n",
        "img_path = '/content/crop_dataset/images/'\n",
        "img_lst = os.listdir(img_path)\n",
        "img_des = '/content/Crop_512x512_Multi/images/'\n",
        "img_lst = natsort.natsorted(img_lst)\n",
        "\n",
        "def crop512x512(src,lst,des,size):\n",
        "    for img in lst:\n",
        "        name = img.split('.')[0]\n",
        "        img_dir=os.path.join(src,img)\n",
        "        img_crop=Image.open(img_dir)\n",
        "        \n",
        "        points = product(range(0,4),range(0,4))\n",
        "        for x ,y in points: \n",
        "\n",
        "            min_x = x*size\n",
        "            max_x = (x+1)*size\n",
        "            min_y = y*size\n",
        "            max_y = (y+1)*size\n",
        "            area=(min_x,min_y,max_x,max_y)\n",
        "            img_crop2=img_crop.crop(area)\n",
        "            img_crop2.save(des+f'{name}_{x}_{y}.png')"
      ],
      "metadata": {
        "id": "S2F1GxEkKJc7"
      },
      "execution_count": null,
      "outputs": []
    },
    {
      "cell_type": "code",
      "source": [
        "crop512x512(img_path,img_lst,img_des,512)"
      ],
      "metadata": {
        "id": "NAKofpCF8t3Y"
      },
      "execution_count": null,
      "outputs": []
    },
    {
      "cell_type": "code",
      "source": [
        "len(os.listdir('/content/Crop_512x512_Multi/images'))"
      ],
      "metadata": {
        "colab": {
          "base_uri": "https://localhost:8080/"
        },
        "id": "qIgDstNA4MaI",
        "outputId": "9e52e81a-f344-4bf5-f8c0-76823510beb2"
      },
      "execution_count": null,
      "outputs": [
        {
          "output_type": "execute_result",
          "data": {
            "text/plain": [
              "5616"
            ]
          },
          "metadata": {},
          "execution_count": 7
        }
      ]
    },
    {
      "cell_type": "code",
      "source": [
        "mask_src='/content/crop_dataset/masks/'\n",
        "mask_lst=os.listdir(mask_src)\n",
        "mask_lst=natsort.natsorted(mask_lst)\n",
        "mask_des='/content/Crop_512x512_Multi/labels/'\n",
        "size=512\n",
        "\n",
        "crop512x512(mask_src,mask_lst,mask_des,size)"
      ],
      "metadata": {
        "id": "MPCGJT1kJTQU"
      },
      "execution_count": null,
      "outputs": []
    },
    {
      "cell_type": "code",
      "source": [
        "len(os.listdir('/content/Crop_512x512_Multi/labels'))"
      ],
      "metadata": {
        "colab": {
          "base_uri": "https://localhost:8080/"
        },
        "id": "0QUbTWaCJ6pU",
        "outputId": "1b20cfc5-bdf7-417d-def8-1681e51fde95"
      },
      "execution_count": null,
      "outputs": [
        {
          "output_type": "execute_result",
          "data": {
            "text/plain": [
              "5616"
            ]
          },
          "metadata": {},
          "execution_count": 13
        }
      ]
    },
    {
      "cell_type": "code",
      "source": [
        "!zip Crop_512x512_Multi.zip -r ./Crop_512x512_Multi\n",
        "!mv /content/Crop_512x512_Multi.zip /content/drive/MyDrive/MMSeg_data"
      ],
      "metadata": {
        "id": "ee7uPFbD5Fjm"
      },
      "execution_count": null,
      "outputs": []
    },
    {
      "cell_type": "markdown",
      "source": [
        "### 2"
      ],
      "metadata": {
        "id": "9ZEcEvXg-I1E"
      }
    },
    {
      "cell_type": "code",
      "source": [
        "def crop_img(src,lst,des,d):  \n",
        "    for img in lst:\n",
        "        name = img.split('.')[0]\n",
        "        img_dir=os.path.join(src,img)\n",
        "        img_crop=Image.open(img_dir)\n",
        "        w,h = img_crop.size\n",
        "        \n",
        "        points = product(range(0, h-h%d, d), range(0, w-w%d, d))\n",
        "        for x, y in points:\n",
        "            box = (y, x, y+d, x+d)\n",
        "            out = os.path.join(des, f'{name}_{x}_{y}.png')\n",
        "            img_crop.crop(box).save(out)"
      ],
      "metadata": {
        "id": "C-NEq8nv-PZE"
      },
      "execution_count": null,
      "outputs": []
    },
    {
      "cell_type": "code",
      "source": [
        "crop_img('/content/crop_dataset/images',os.listdir('/content/crop_dataset/images/'),512)"
      ],
      "metadata": {
        "id": "f5tylZlZJssT"
      },
      "execution_count": null,
      "outputs": []
    },
    {
      "cell_type": "code",
      "source": [
        "crop_img('/content/crop_dataset/masks/',os.listdir('/content/crop_dataset/masks'),'/content/Crop_512x512_Multi/labels/',512)"
      ],
      "metadata": {
        "id": "BOe4zyVTLgp1"
      },
      "execution_count": null,
      "outputs": []
    },
    {
      "cell_type": "code",
      "source": [
        "len(os.listdir('/content/Crop_512x512_Multi/images/')),len(os.listdir('/content/Crop_512x512_Multi/labels/'))"
      ],
      "metadata": {
        "colab": {
          "base_uri": "https://localhost:8080/"
        },
        "id": "Q-2A6_9HLIqW",
        "outputId": "dc3d482b-eaef-497d-bff0-ff0084b4b9f6"
      },
      "execution_count": null,
      "outputs": [
        {
          "output_type": "execute_result",
          "data": {
            "text/plain": [
              "(5616, 5616)"
            ]
          },
          "metadata": {},
          "execution_count": 108
        }
      ]
    },
    {
      "cell_type": "code",
      "source": [
        "import matplotlib.pyplot as plt\n",
        "for test_i in os.listdir('/content/Crop_512x512_Multi/labels/'):\n",
        "    dir=os.path.join('/content/Crop_512x512_Multi/labels/',test_i)\n",
        "    test_img=Image.open(dir)\n",
        "    plt.imshow(test_img)\n",
        "    plt.show()"
      ],
      "metadata": {
        "id": "q574lmUdDyNw"
      },
      "execution_count": null,
      "outputs": []
    },
    {
      "cell_type": "code",
      "source": [
        "!zip Crop_512x512_Multi.zip -r ./Crop_512x512_Multi\n",
        "!mv /content/Crop_512x512_Multi.zip /content/drive/MyDrive/MMSeg_data"
      ],
      "metadata": {
        "id": "Y5sXLZrHETbk"
      },
      "execution_count": null,
      "outputs": []
    },
    {
      "cell_type": "code",
      "source": [
        "import os\n",
        "import natsort\n",
        "import matplotlib.pyplot as plt\n",
        "\n",
        "img_path='/content/Crop_512x512_Multi/images'\n",
        "mask_path='/content/Crop_512x512_Multi/labels'\n",
        "img_lst=os.listdir(img_path)\n",
        "mask_lst=os.listdir(mask_path)\n",
        "img_lst=natsort.natsorted(img_lst)\n",
        "mask_lst=natsort.natsorted(mask_lst)\n",
        "\n",
        "for img,mask in zip(img_lst, mask_lst):\n",
        "    img_name=img.split('.')[0]\n",
        "    mask_name=mask.split('.')[0]\n",
        "    img_dir=os.path.join(img_path,img)\n",
        "    mask_dir=os.path.join(mask_path,mask)\n",
        "    \n",
        "    image=Image.open(img_dir)\n",
        "    mask_img=Image.open(mask_dir)\n",
        "    plt.figure(figsize=(20, 20))\n",
        "    plt.subplot(1,2,1)\n",
        "    plt.imshow(image)\n",
        "    plt.subplot(1,2,2)\n",
        "    plt.imshow(mask_img)\n",
        "    print(img_name,mask_name )\n",
        "    plt.show()"
      ],
      "metadata": {
        "id": "KzaNU3XmMie6"
      },
      "execution_count": null,
      "outputs": []
    },
    {
      "cell_type": "markdown",
      "source": [
        "## 마스크 없는 데이터 제거하기"
      ],
      "metadata": {
        "id": "pO5UG3V8OQxZ"
      }
    },
    {
      "cell_type": "code",
      "source": [
        "!gdown  ## Crop_512x512_Multi_5616"
      ],
      "metadata": {
        "colab": {
          "base_uri": "https://localhost:8080/"
        },
        "id": "rb6ajVfbQAHd",
        "outputId": "997f97ed-ac06-4c9c-d8f3-130c44a0fc69"
      },
      "execution_count": null,
      "outputs": [
        {
          "output_type": "stream",
          "name": "stdout",
          "text": [
            "Downloading...\n",
            "From: https://drive.google.com/uc?id=1c3Kzax50bDqxE7eArM4FPaUWcWAlFGqj\n",
            "To: /content/Crop_512x512_Multi_5616.zip\n",
            "100% 326M/326M [00:02<00:00, 149MB/s]\n"
          ]
        }
      ]
    },
    {
      "cell_type": "code",
      "source": [
        "#@title\n",
        "!rm -rf /content/Crop_512x512_Multi_3000"
      ],
      "metadata": {
        "id": "skK2SYiAT2GY",
        "cellView": "form"
      },
      "execution_count": null,
      "outputs": []
    },
    {
      "cell_type": "code",
      "source": [
        "#@title\n",
        "!mkdir Crop_512x512_Multi_3000\n",
        "!mkdir Crop_512x512_Multi_3000/labels\n",
        "!mkdir Crop_512x512_Multi_3000/images"
      ],
      "metadata": {
        "id": "3qSFAkItQxO9",
        "cellView": "form"
      },
      "execution_count": null,
      "outputs": []
    },
    {
      "cell_type": "code",
      "source": [
        "import numpy as np\n",
        "import shutil\n",
        "image_src='/content/Crop_512x512_Multi/images/'\n",
        "image_des='/content/Crop_512x512_Multi_3000/images/'\n",
        "masks_src='/content/Crop_512x512_Multi/labels/'\n",
        "masks_des='/content/Crop_512x512_Multi_3000/labels/'\n",
        "\n",
        "for mask in os.listdir(masks_src):\n",
        "    \n",
        "    dir=os.path.join(masks_src,mask)\n",
        "    save_mask=Image.open(dir)\n",
        "    save_mask=np.array(save_mask)\n",
        "\n",
        "    if np.max(save_mask) != 0:\n",
        "        mask_name=mask\n",
        "        shutil.copy(masks_src+mask,masks_des+mask)\n",
        "    else:\n",
        "        pass"
      ],
      "metadata": {
        "id": "wIatsHTtOWKP"
      },
      "execution_count": null,
      "outputs": []
    },
    {
      "cell_type": "code",
      "source": [
        "for img, mask in zip(os.listdir(image_src),os.listdir(masks_des)):\n",
        "    name = mask.split('.')[0]\n",
        "    image_name = name + '.jpg'\n",
        "    img = image_name\n",
        "    shutil.copy(image_src+img,image_des+img)"
      ],
      "metadata": {
        "id": "Bdt385XCabaX"
      },
      "execution_count": null,
      "outputs": []
    },
    {
      "cell_type": "code",
      "source": [
        "len(os.listdir(image_des)),len(os.listdir(masks_des))"
      ],
      "metadata": {
        "colab": {
          "base_uri": "https://localhost:8080/"
        },
        "id": "mPuUbDHkdkfT",
        "outputId": "a9835297-5709-42a6-ba7b-22540cd7eb98"
      },
      "execution_count": null,
      "outputs": [
        {
          "output_type": "execute_result",
          "data": {
            "text/plain": [
              "(3113, 3112)"
            ]
          },
          "metadata": {},
          "execution_count": 153
        }
      ]
    },
    {
      "cell_type": "code",
      "source": [
        "#@title\n",
        "!mv /content/Crop_512x512_Multi_3000 /content/Crop_512x512_Multi_3112"
      ],
      "metadata": {
        "id": "rS84WaRZd9iK",
        "cellView": "form"
      },
      "execution_count": null,
      "outputs": []
    },
    {
      "cell_type": "code",
      "source": [
        "#@title\n",
        "!zip Crop_512x512_Multi_3112.zip -r ./Crop_512x512_Multi_3112"
      ],
      "metadata": {
        "id": "99twxP4nd2Lm",
        "cellView": "form"
      },
      "execution_count": null,
      "outputs": []
    },
    {
      "cell_type": "code",
      "source": [
        "#@title\n",
        "!mv /content/Crop_512x512_Multi_3112.zip /content/drive/MyDrive/MMSeg_data"
      ],
      "metadata": {
        "id": "oD-vb-GDePdA",
        "cellView": "form"
      },
      "execution_count": null,
      "outputs": []
    },
    {
      "cell_type": "markdown",
      "source": [
        "## Crop 256,256 -> Resize 512,512"
      ],
      "metadata": {
        "id": "QA97z8lcPxpn"
      }
    },
    {
      "cell_type": "code",
      "source": [
        "!gdown \n",
        "!unzip /content/Crop_2048x2048_Multi.zip"
      ],
      "metadata": {
        "id": "F4aXnULjeXP7",
        "colab": {
          "base_uri": "https://localhost:8080/"
        },
        "outputId": "b776658d-a231-486e-d6a7-1d09f73ac52d"
      },
      "execution_count": null,
      "outputs": [
        {
          "output_type": "stream",
          "name": "stdout",
          "text": [
            "Downloading...\n",
            "From: https://drive.google.com/uc?id=1nqxW7dxlyoCZcwz8ht4Gx2Gttu7qQUqq\n",
            "To: /content/Crop_2048x2048_Multi.zip\n",
            "100% 320M/320M [00:02<00:00, 151MB/s]\n"
          ]
        }
      ]
    },
    {
      "cell_type": "code",
      "source": [
        "import os\n",
        "from PIL import Image\n",
        "from itertools import product\n",
        "\n",
        "def crop_img(src,lst,des,d):  \n",
        "    for img in lst:\n",
        "        name = img.split('.')[0]\n",
        "        img_dir=os.path.join(src,img)\n",
        "        img_crop=Image.open(img_dir)\n",
        "        w,h = img_crop.size\n",
        "        \n",
        "        points = product(range(0, h-h%d, d), range(0, w-w%d, d))\n",
        "        for x, y in points:\n",
        "            box = (y, x, y+d, x+d)\n",
        "            out = os.path.join(des, f'{name}_{x}_{y}.jpg')\n",
        "            img_crop.crop(box).save(out)"
      ],
      "metadata": {
        "id": "drrr-eMVQeXj"
      },
      "execution_count": null,
      "outputs": []
    },
    {
      "cell_type": "code",
      "source": [
        "#@title\n",
        "!mkdir Crop_256x256_Multi\n",
        "!mkdir /content/Crop_256x256_Multi/images\n",
        "!mkdir /content/Crop_256x256_Multi/labels"
      ],
      "metadata": {
        "id": "sMYw98vsQ0tc",
        "cellView": "form"
      },
      "execution_count": null,
      "outputs": []
    },
    {
      "cell_type": "code",
      "source": [
        "#@title\n",
        "!rm -rf /content/Crop_256x256_Multi/images\n",
        "!mkdir /content/Crop_256x256_Multi/images"
      ],
      "metadata": {
        "id": "NamYGw57WAtB",
        "cellView": "form"
      },
      "execution_count": null,
      "outputs": []
    },
    {
      "cell_type": "code",
      "source": [
        "img_src='/content/crop_dataset/images/'\n",
        "img_lst=os.listdir(img_src)\n",
        "des='/content/Crop_256x256_Multi/images/'\n",
        "\n",
        "crop_img(img_src,img_lst,des,256)"
      ],
      "metadata": {
        "id": "DWROH3x-Qy4j"
      },
      "execution_count": null,
      "outputs": []
    },
    {
      "cell_type": "code",
      "source": [
        "mask_src='/content/crop_dataset/masks/'\n",
        "mask_lst=os.listdir(mask_src)\n",
        "maks_des='/content/Crop_256x256_Multi/labels/'\n",
        "\n",
        "crop_img(mask_src,mask_lst,maks_des,256)"
      ],
      "metadata": {
        "id": "G2TOkyssRh3A"
      },
      "execution_count": null,
      "outputs": []
    },
    {
      "cell_type": "code",
      "source": [
        "!mkdir Resize_256to512_Multi\n",
        "!mkdir /content/Resize_256to512_Multi/images\n",
        "!mkdir /content/Resize_256to512_Multi/labels"
      ],
      "metadata": {
        "id": "AxGOAsqQTXXA"
      },
      "execution_count": null,
      "outputs": []
    },
    {
      "cell_type": "code",
      "source": [
        "len(os.listdir(des)),len(os.listdir(maks_des))"
      ],
      "metadata": {
        "colab": {
          "base_uri": "https://localhost:8080/"
        },
        "id": "2p0VHe6WUC1Z",
        "outputId": "038d7d7d-929b-491b-f6a0-e4d8c39bf52d"
      },
      "execution_count": null,
      "outputs": [
        {
          "output_type": "execute_result",
          "data": {
            "text/plain": [
              "(22464, 22464)"
            ]
          },
          "metadata": {},
          "execution_count": 11
        }
      ]
    },
    {
      "cell_type": "code",
      "source": [
        "## 마스크 없는 파일 제거\n",
        "import numpy as np\n",
        "import shutil\n",
        "\n",
        "masks_src='/content/Crop_256x256_Multi/labels/'\n",
        "masks_des='/content/Resize_256to512_Multi/labels/'\n",
        "\n",
        "for mask in os.listdir(masks_src):\n",
        "    \n",
        "    dir=os.path.join(masks_src,mask)\n",
        "    save_mask=Image.open(dir)\n",
        "    save_mask=np.array(save_mask)\n",
        "\n",
        "    if np.max(save_mask) != 0:\n",
        "        mask_name=mask\n",
        "        shutil.copy(masks_src+mask,masks_des+mask) \n",
        "        pass"
      ],
      "metadata": {
        "id": "P9QpQQlKSYda"
      },
      "execution_count": null,
      "outputs": []
    },
    {
      "cell_type": "code",
      "source": [
        "image_src='/content/Crop_256x256_Multi/images/'\n",
        "image_des='/content/Resize_256to512_Multi/images/'\n",
        "for img_, mask in zip(os.listdir(image_src),os.listdir(masks_des)):\n",
        "    name = mask.split('.')[0]\n",
        "    image_name = name + '.jpg'\n",
        "    img_ = image_name\n",
        "    shutil.copy(image_src+img_,image_des+img_)"
      ],
      "metadata": {
        "id": "YYE8GgdRS5aq"
      },
      "execution_count": null,
      "outputs": []
    },
    {
      "cell_type": "code",
      "source": [
        "len(os.listdir(image_des)),len(os.listdir(masks_des))"
      ],
      "metadata": {
        "colab": {
          "base_uri": "https://localhost:8080/"
        },
        "id": "vG6x6VuJUjBR",
        "outputId": "21fb4b39-1493-4345-81ec-4cf7d80eec5e"
      },
      "execution_count": null,
      "outputs": [
        {
          "output_type": "execute_result",
          "data": {
            "text/plain": [
              "(8763, 8763)"
            ]
          },
          "metadata": {},
          "execution_count": 27
        }
      ]
    },
    {
      "cell_type": "code",
      "source": [
        "!mv /content/Crop_256x256_Multi /content/Crop_256x256_Multi_22464\n",
        "!mv /content/Resize_256to512_Multi /content/Crop_256x256_Multi\n",
        "!mv /content/Crop_256x256_Multi /content/Crop_256x256_Multi_8763"
      ],
      "metadata": {
        "id": "BNtonYmwT2Vt"
      },
      "execution_count": null,
      "outputs": []
    },
    {
      "cell_type": "code",
      "source": [
        "!zip Crop_256x256_Multi_8763.zip -r ./Crop_256x256_Multi_8763"
      ],
      "metadata": {
        "id": "XVX0BIvlXDPr"
      },
      "execution_count": null,
      "outputs": []
    },
    {
      "cell_type": "code",
      "source": [
        "from google.colab import drive\n",
        "drive.mount('/content/drive')"
      ],
      "metadata": {
        "colab": {
          "base_uri": "https://localhost:8080/"
        },
        "id": "MpBLrFhvXPKl",
        "outputId": "2ece0cb0-e676-4a94-b182-5d3990c1737c"
      },
      "execution_count": null,
      "outputs": [
        {
          "output_type": "stream",
          "name": "stdout",
          "text": [
            "Mounted at /content/drive\n"
          ]
        }
      ]
    },
    {
      "cell_type": "code",
      "source": [
        "!mv /content/Crop_256x256_Multi_8763.zip /content/drive/MyDrive/data/MMSeg_zip"
      ],
      "metadata": {
        "id": "gbyEKYITXViX"
      },
      "execution_count": null,
      "outputs": []
    },
    {
      "cell_type": "code",
      "source": [
        "def resizing_jpg(src,lst,size,des):\n",
        "    for img in lst:\n",
        "        name = img.split('.')[0]\n",
        "        dir=os.path.join(src,img)\n",
        "        img_re = Image.open(dir)\n",
        "        img_re = img_re.resize((size, size))\n",
        "        img_re.save(des+name+'.jpg')"
      ],
      "metadata": {
        "id": "MQRJ9CBfXnsl"
      },
      "execution_count": null,
      "outputs": []
    },
    {
      "cell_type": "code",
      "source": [
        "def resizing_png(src,lst,size,des):\n",
        "    for img in lst:\n",
        "        name = img.split('.')[0]\n",
        "        dir=os.path.join(src,img)\n",
        "        img_re = Image.open(dir)\n",
        "        img_re = img_re.resize((size, size))\n",
        "        img_re.save(des+name+'.png')"
      ],
      "metadata": {
        "id": "KCoZuYR0Xznq"
      },
      "execution_count": null,
      "outputs": []
    },
    {
      "cell_type": "code",
      "source": [
        "!mkdir ResizeCrop_256to512_Multi\n",
        "!mkdir /content/ResizeCrop_256to512_Multi/images\n",
        "!mkdir /content/ResizeCrop_256to512_Multi/labels"
      ],
      "metadata": {
        "id": "Qdv9gYSHX0QX"
      },
      "execution_count": null,
      "outputs": []
    },
    {
      "cell_type": "code",
      "source": [
        "im_src='/content/Crop_256x256_Multi_8763/images/'\n",
        "im_lst=os.listdir(im_src)\n",
        "size=512\n",
        "im_des='/content/ResizeCrop_256to512_Multi/images/'\n",
        "resizing_jpg(im_src,im_lst,size,im_des)"
      ],
      "metadata": {
        "id": "d_lP_UEKYVCU"
      },
      "execution_count": null,
      "outputs": []
    },
    {
      "cell_type": "code",
      "source": [
        "la_src='/content/Crop_256x256_Multi_8763/labels/'\n",
        "la_lst=os.listdir(la_src)\n",
        "size=512\n",
        "la_des='/content/ResizeCrop_256to512_Multi/labels/'\n",
        "\n",
        "resizing_png(la_src,la_lst,size,la_des)"
      ],
      "metadata": {
        "id": "Kn-qZFsFYmm-"
      },
      "execution_count": null,
      "outputs": []
    },
    {
      "cell_type": "code",
      "source": [
        "len(os.listdir(im_des)),len(os.listdir(la_des))"
      ],
      "metadata": {
        "colab": {
          "base_uri": "https://localhost:8080/"
        },
        "id": "cdttGs07ZT9z",
        "outputId": "42ec4750-47a0-418f-d51a-e120a04e3b0c"
      },
      "execution_count": null,
      "outputs": [
        {
          "output_type": "execute_result",
          "data": {
            "text/plain": [
              "(8763, 8763)"
            ]
          },
          "metadata": {},
          "execution_count": 42
        }
      ]
    },
    {
      "cell_type": "code",
      "source": [
        "## 리사이징 됬는지 테스트\n",
        "for i in os.listdir(la_des):\n",
        "    im_dir=os.path.join(la_des,i)\n",
        "    im_shape=Image.open(im_dir)\n",
        "    print(im_shape.size)"
      ],
      "metadata": {
        "id": "aKOs26wGaLT9"
      },
      "execution_count": null,
      "outputs": []
    },
    {
      "cell_type": "code",
      "source": [
        "!zip ResizeCrop_256to512_Multi_8763.zip -r ./ResizeCrop_256to512_Multi"
      ],
      "metadata": {
        "id": "3wkYlGpvZnYx"
      },
      "execution_count": null,
      "outputs": []
    },
    {
      "cell_type": "code",
      "source": [
        "!mv /content/ResizeCrop_256to512_Multi_8763.zip /content/drive/MyDrive/data/MMSeg_zip"
      ],
      "metadata": {
        "id": "SBPNCm1wZvdG"
      },
      "execution_count": null,
      "outputs": []
    },
    {
      "cell_type": "markdown",
      "source": [
        "## 라벨별 편향 줄이기"
      ],
      "metadata": {
        "id": "uvsLyet7B5Bt"
      }
    },
    {
      "cell_type": "code",
      "source": [
        "!gdown  ## 256to512 데이터셋\n",
        "!gdown  ## 512x512 crop 3112 데이터셋\n",
        "!gdown  ## 512x512 convert 데이터셋"
      ],
      "metadata": {
        "colab": {
          "base_uri": "https://localhost:8080/"
        },
        "id": "WsdHrzucB_-A",
        "outputId": "d6737c38-fc68-4b13-c5f4-fb0a8ad56d4c"
      },
      "execution_count": null,
      "outputs": [
        {
          "output_type": "stream",
          "name": "stdout",
          "text": [
            "Downloading...\n",
            "From: https://drive.google.com/uc?id=1-538FH0Du7gXM9ko-9WCUe4PU7GKoidM\n",
            "To: /content/ResizeCrop_256to512_Multi_8763.zip\n",
            "100% 314M/314M [00:01<00:00, 191MB/s]\n"
          ]
        }
      ]
    },
    {
      "cell_type": "code",
      "source": [
        "#@title\n",
        "!unzip /content/ResizeCrop_256to512_Multi_8763.zip\n",
        "!unzip /content/Crop_512x512_Multi_3112.zip\n",
        "!unzip /content/Multi_512x512_MMSeg.zip"
      ],
      "metadata": {
        "id": "JjGXty3vC70V",
        "cellView": "form"
      },
      "execution_count": null,
      "outputs": []
    },
    {
      "cell_type": "code",
      "source": [
        "#@title\n",
        "!mkdir Convert_512x512_Multi_351\n",
        "!mv /content/train /content/images\n",
        "!mv /content/masks /content/labels\n",
        "!mv /content/images /content/Convert_512x512_Multi_351\n",
        "!mv /content/labels /content/Convert_512x512_Multi_351"
      ],
      "metadata": {
        "id": "w0imoSMzIP8U",
        "cellView": "form"
      },
      "execution_count": null,
      "outputs": []
    },
    {
      "cell_type": "code",
      "source": [
        "#@title\n",
        "!rm -rf /content/ResizeCrop_256to512_Multi\n",
        "!unzip /content/ResizeCrop_256to512_Multi_8763.zip"
      ],
      "metadata": {
        "id": "dtaRmMzzPG2j",
        "cellView": "form"
      },
      "execution_count": null,
      "outputs": []
    },
    {
      "cell_type": "code",
      "source": [
        "import os\n",
        "import numpy as np\n",
        "from PIL import Image\n",
        "from tqdm.notebook import tqdm\n",
        "import shutil"
      ],
      "metadata": {
        "id": "SujXhfiFFhEc"
      },
      "execution_count": null,
      "outputs": []
    },
    {
      "cell_type": "code",
      "source": [
        "## png2jpg\n",
        "png_path='/content/Convert_512x512_Multi_351/png/'\n",
        "for png in os.listdir(png_path):\n",
        "    png_dir=os.path.join(png_path,png)\n",
        "    png2jpg=Image.open(png_dir)\n",
        "    png2jpg.save(path1+png[:-4]+'.jpg')"
      ],
      "metadata": {
        "id": "FwJfitnlJa_g"
      },
      "execution_count": null,
      "outputs": []
    },
    {
      "cell_type": "code",
      "source": [
        "#@title\n",
        "!mv /content/Convert_512x512_Multi_351/images /content/Convert_512x512_Multi_351/png\n",
        "!mkdir /content/Convert_512x512_Multi_351/images"
      ],
      "metadata": {
        "id": "mKHjdZ9uJxjX",
        "cellView": "form"
      },
      "execution_count": null,
      "outputs": []
    },
    {
      "cell_type": "code",
      "source": [
        "#@title\n",
        "!rm -rf /content/test_images\n",
        "!rm -rf /content/test_labels\n",
        "!mkdir test_images\n",
        "!mkdir test_labels"
      ],
      "metadata": {
        "id": "cK9YPoslODBD",
        "cellView": "form"
      },
      "execution_count": null,
      "outputs": []
    },
    {
      "cell_type": "code",
      "source": [
        "src_path='/content/ResizeCrop_256to512_Multi/images/'\n",
        "test_path='/content/test_images/'\n",
        "for name in os.listdir(src_path):\n",
        "    name_dir=os.path.join(src_path,name)\n",
        "    change_name=Image.open(name_dir)\n",
        "    change_name.save(test_path+'a'+name)"
      ],
      "metadata": {
        "id": "43pNYXVYONcg"
      },
      "execution_count": null,
      "outputs": []
    },
    {
      "cell_type": "code",
      "source": [
        "msrc_path='/content/ResizeCrop_256to512_Multi/labels/'\n",
        "mtest_path='/content/test_labels/'\n",
        "for m_name in os.listdir(msrc_path):\n",
        "    m_name_dir=os.path.join(msrc_path,m_name)\n",
        "    change_m_name=Image.open(m_name_dir)\n",
        "    change_m_name.save(mtest_path+'a'+m_name)"
      ],
      "metadata": {
        "id": "OpotDqzZQLPN"
      },
      "execution_count": null,
      "outputs": []
    },
    {
      "cell_type": "code",
      "source": [
        "len(os.listdir(test_path)), len(os.listdir(mtest_path))"
      ],
      "metadata": {
        "colab": {
          "base_uri": "https://localhost:8080/"
        },
        "id": "In8qIawuTDZB",
        "outputId": "8e7f8549-f845-407d-b577-ef9b152043b4"
      },
      "execution_count": null,
      "outputs": [
        {
          "output_type": "execute_result",
          "data": {
            "text/plain": [
              "(8763, 8763)"
            ]
          },
          "metadata": {},
          "execution_count": 57
        }
      ]
    },
    {
      "cell_type": "code",
      "source": [
        "def sum_label(src,des,class_num):\n",
        "    for img in tqdm(os.listdir(src)):\n",
        "        img_dir=os.path.join(src,img)\n",
        "        img_sum=Image.open(img_dir)\n",
        "        img_sum=np.array(img_sum)\n",
        "    \n",
        "        if img_sum.max() == class_num:\n",
        "            shutil.copy(src+img,des+img)"
      ],
      "metadata": {
        "id": "LzPKLSsIEXsu"
      },
      "execution_count": null,
      "outputs": []
    },
    {
      "cell_type": "code",
      "source": [
        "#@title\n",
        "!rm -rf /content/test"
      ],
      "metadata": {
        "id": "o3oDzx97Yvik",
        "cellView": "form"
      },
      "execution_count": null,
      "outputs": []
    },
    {
      "cell_type": "code",
      "source": [
        "#@title\n",
        "!rm -rf /content/sum_data\n",
        "!mkdir sum_data\n",
        "!mkdir /content/sum_data/kidney\n",
        "!mkdir /content/sum_data/prostate\n",
        "!mkdir /content/sum_data/largeintestine\n",
        "!mkdir /content/sum_data/spleen\n",
        "!mkdir /content/sum_data/lung"
      ],
      "metadata": {
        "id": "cAWKo1pZRQQC",
        "cellView": "form"
      },
      "execution_count": null,
      "outputs": []
    },
    {
      "cell_type": "code",
      "source": [
        "#@title\n",
        "!rm -rf /content/Convert_512x512_Multi_351/image_src\n",
        "!rm -rf /content/Crop_512x512_Multi_3112/image_src\n",
        "!rm -rf /content/ResizeCrop_256to512_Multi/image_src\n",
        "!rm -rf /content/Convert_512x512_Multi_351/label_src\n",
        "!rm -rf /content/Crop_512x512_Multi_3112/label_src\n",
        "!rm -rf /content/ResizeCrop_256to512_Multi/label_src"
      ],
      "metadata": {
        "id": "wJEbZ_LyzvH9",
        "cellView": "form"
      },
      "execution_count": null,
      "outputs": []
    },
    {
      "cell_type": "code",
      "source": [
        "#@title\n",
        "!mkdir /content/Convert_512x512_Multi_351/image_src\n",
        "!mkdir /content/Crop_512x512_Multi_3112/image_src\n",
        "!mkdir /content/ResizeCrop_256to512_Multi/image_src\n",
        "!mkdir /content/Convert_512x512_Multi_351/label_src\n",
        "!mkdir /content/Crop_512x512_Multi_3112/label_src\n",
        "!mkdir /content/ResizeCrop_256to512_Multi/label_src"
      ],
      "metadata": {
        "id": "ypRfzeqiva5Y",
        "cellView": "form"
      },
      "execution_count": null,
      "outputs": []
    },
    {
      "cell_type": "code",
      "source": [
        "#@title\n",
        "!rm -rf /content/Sum_labels/images\n",
        "!mkdir /content/Sum_labels/images"
      ],
      "metadata": {
        "id": "bo9mlobzz5L8",
        "cellView": "form"
      },
      "execution_count": null,
      "outputs": []
    },
    {
      "cell_type": "code",
      "source": [
        "src1='/content/Convert_512x512_Multi_351/labels/' # 1,3,4,5\n",
        "src2='/content/Crop_512x512_Multi_3112/labels/' # 1,2,3,4,5\n",
        "src3='/content/test_labels/' # 5\n",
        "des1='/content/Convert_512x512_Multi_351/label_src/'\n",
        "des2='/content/Crop_512x512_Multi_3112/label_src/'\n",
        "des3='/content/ResizeCrop_256to512_Multi/label_src/'\n",
        "sum_label(src1,des1,1)\n",
        "sum_label(src1,des1,3)\n",
        "sum_label(src1,des1,4)\n",
        "sum_label(src1,des1,5)\n",
        "sum_label(src2,des2,1)\n",
        "sum_label(src2,des2,2)\n",
        "sum_label(src2,des2,3)\n",
        "sum_label(src2,des2,4)\n",
        "sum_label(src2,des2,5)\n",
        "sum_label(src3,des3,5)"
      ],
      "metadata": {
        "id": "CtvtQ7VjwIy3"
      },
      "execution_count": null,
      "outputs": []
    },
    {
      "cell_type": "code",
      "source": [
        "len(os.listdir(des1)),len(os.listdir(des2)),len(os.listdir(des3))"
      ],
      "metadata": {
        "colab": {
          "base_uri": "https://localhost:8080/"
        },
        "id": "H4Zm6MkNy7nL",
        "outputId": "d3dfa48e-5494-4475-c6bf-213293411165"
      },
      "execution_count": null,
      "outputs": [
        {
          "output_type": "execute_result",
          "data": {
            "text/plain": [
              "(1305, 3112, 549)"
            ]
          },
          "metadata": {},
          "execution_count": 157
        }
      ]
    },
    {
      "cell_type": "code",
      "source": [
        "def moveimgfile(image_src,masks_src,image_des):\n",
        "    for img_, mask in zip(os.listdir(image_src),os.listdir(masks_src)):\n",
        "        name = mask.split('.')[0]\n",
        "        image_name = name + '.jpg'\n",
        "        img_ = image_name\n",
        "        # print(img_)\n",
        "        shutil.copy(image_src+img_,image_des+img_)"
      ],
      "metadata": {
        "id": "lBWyD3k6x5o_"
      },
      "execution_count": null,
      "outputs": []
    },
    {
      "cell_type": "code",
      "source": [
        "img_src1='/content/Convert_512x512_Multi_351/images/'\n",
        "img_src2='/content/Crop_512x512_Multi_3112/images/'\n",
        "img_src3='/content/test_images/'\n",
        "mask_src1='/content/Convert_512x512_Multi_351/label_src/'\n",
        "mask_src2='/content/Crop_512x512_Multi_3112/label_src/'\n",
        "mask_src3='/content/ResizeCrop_256to512_Multi/label_src/'\n",
        "img_des='/content/Sum_labels/images/'\n",
        "moveimgfile(img_src1,mask_src1,img_des)\n",
        "moveimgfile(img_src2,mask_src2,img_des)\n",
        "moveimgfile(img_src3,mask_src3,img_des)"
      ],
      "metadata": {
        "id": "2ebraR25x6Uj"
      },
      "execution_count": null,
      "outputs": []
    },
    {
      "cell_type": "code",
      "source": [
        "len(os.listdir(img_des)),len(os.listdir('/content/Sum_labels/labels'))"
      ],
      "metadata": {
        "colab": {
          "base_uri": "https://localhost:8080/"
        },
        "id": "tUdfW4YYysf2",
        "outputId": "4220cde0-aa0a-42e6-d7bc-0b0b2aceec40"
      },
      "execution_count": null,
      "outputs": [
        {
          "output_type": "execute_result",
          "data": {
            "text/plain": [
              "(4966, 4966)"
            ]
          },
          "metadata": {},
          "execution_count": 166
        }
      ]
    },
    {
      "cell_type": "code",
      "source": [
        "!rm -rf /content/sum_data/spleen\n",
        "!mkdir /content/sum_data/spleen"
      ],
      "metadata": {
        "id": "viTQHWz1kiTb"
      },
      "execution_count": null,
      "outputs": []
    },
    {
      "cell_type": "code",
      "source": [
        "len(os.listdir('/content/Convert_512x512_Multi_351/images/'))"
      ],
      "metadata": {
        "colab": {
          "base_uri": "https://localhost:8080/"
        },
        "id": "R9e6yD-2afBG",
        "outputId": "3ec2dce1-48e0-45b5-c068-e1df6406776f"
      },
      "execution_count": null,
      "outputs": [
        {
          "output_type": "execute_result",
          "data": {
            "text/plain": [
              "2895"
            ]
          },
          "metadata": {},
          "execution_count": 83
        }
      ]
    },
    {
      "cell_type": "code",
      "source": [
        "src1='/content/Convert_512x512_Multi_351/labels/'\n",
        "des1='/content/sum_data/kidney/'\n",
        "sum_label(src1,des1,1)\n",
        "src2='/content/Crop_512x512_Multi_3112/labels/'\n",
        "des2='/content/sum_data/kidney/'\n",
        "sum_label(src2,des2,1)\n",
        "src3='/content/test_labels/'\n",
        "des3='/content/sum_data/spleen/'\n",
        "sum_label(src3,des3,4)\n",
        "src4='/content/Crop_512x512_Multi_3112/labels/'\n",
        "des4='/content/sum_data/spleen/'\n",
        "sum_label(src4,des4,4)\n",
        "src5='/content/Crop_512x512_Multi_3112/labels/'\n",
        "des5='/content/sum_data/lung/'\n",
        "sum_label(src5,des5,5)"
      ],
      "metadata": {
        "colab": {
          "base_uri": "https://localhost:8080/",
          "height": 81,
          "referenced_widgets": [
            "137fc455a6ee4aa8ade63fa226c797cf",
            "ff8585d668d74227b38aa28bf83a5cf3",
            "450e80cb08894db48db5580a61a427ab",
            "51fa01ded24b48a1b2e837529f04df8e",
            "247311a5acf343c7bf1a7dbba177a6a0",
            "24a9530c457e4696bca6c7dba6f26ffb",
            "6cf45e66d404484fb356303b54a1d783",
            "28e0f743ac384fed944519fd2b682979",
            "31e5140f08b84f84b04c773a72e53522",
            "4cfb95370b8f40f59f5fb9ae8501d312",
            "36d61781c33748a896e35028cc247f70",
            "61479b793d82434c95bed2cef5afce0c",
            "668d509b8a6949ed93bfb04ce9008c1f",
            "5bede8a1778e47c8b627605c1e8881e0",
            "2e1f682df62f439b95d17df9ba8f2278",
            "8cb1617874f247809ea02a83598f2e12",
            "cfdfbacd64614c628b510b9ea323fdae",
            "8810ea25865341ae8feb39a1dba3e669",
            "6a2e3f35ca214ed5ab3fd398efa6dcdf",
            "e386152d9d41474f8d52580145ab7b09",
            "0d62e412637d40cb995f949882add00a",
            "ba748efb2cb94047a3ae5062f0ab10b9"
          ]
        },
        "id": "GQH7EnXMQuow",
        "outputId": "0c9aa6ee-0835-442e-9e9f-286a30dab026"
      },
      "execution_count": null,
      "outputs": [
        {
          "output_type": "display_data",
          "data": {
            "text/plain": [
              "  0%|          | 0/2895 [00:00<?, ?it/s]"
            ],
            "application/vnd.jupyter.widget-view+json": {
              "version_major": 2,
              "version_minor": 0,
              "model_id": "137fc455a6ee4aa8ade63fa226c797cf"
            }
          },
          "metadata": {}
        },
        {
          "output_type": "display_data",
          "data": {
            "text/plain": [
              "  0%|          | 0/3112 [00:00<?, ?it/s]"
            ],
            "application/vnd.jupyter.widget-view+json": {
              "version_major": 2,
              "version_minor": 0,
              "model_id": "61479b793d82434c95bed2cef5afce0c"
            }
          },
          "metadata": {}
        }
      ]
    },
    {
      "cell_type": "code",
      "source": [
        "len(os.listdir('/content/sum_data/kidney/')),len(os.listdir('/content/sum_data/prostate/')),len(os.listdir('/content/sum_data/largeintestine/')),len(os.listdir('/content/sum_data/spleen/')),len(os.listdir('/content/sum_data/lung/'))"
      ],
      "metadata": {
        "colab": {
          "base_uri": "https://localhost:8080/"
        },
        "id": "POk8tOp5I0rm",
        "outputId": "2f3ea352-5f79-4050-8141-f9fd4f5bb33f"
      },
      "execution_count": null,
      "outputs": [
        {
          "output_type": "execute_result",
          "data": {
            "text/plain": [
              "(966, 1053, 1219, 732, 996)"
            ]
          },
          "metadata": {},
          "execution_count": 124
        }
      ]
    },
    {
      "cell_type": "code",
      "source": [
        "!mkdir Sum_labels\n",
        "!mkdir /content/Sum_labels/images\n",
        "!mkdir /content/Sum_labels/labels"
      ],
      "metadata": {
        "id": "sdAIYVlPK-yA"
      },
      "execution_count": null,
      "outputs": []
    },
    {
      "cell_type": "code",
      "source": [
        "des1='/content/sum_data/kidney/'\n",
        "des2='/content/sum_data/prostate/'\n",
        "des3='/content/sum_data/largeintestine/'\n",
        "des4='/content/sum_data/spleen/'\n",
        "des5='/content/sum_data/lung/'"
      ],
      "metadata": {
        "id": "mp42_pO8m9cU"
      },
      "execution_count": null,
      "outputs": []
    },
    {
      "cell_type": "code",
      "source": [
        "des_path_='/content/Sum_labels/labels/'\n",
        "def movefile(des,des_):\n",
        "    for i in os.listdir(des):\n",
        "        shutil.copy(des+i,des_)"
      ],
      "metadata": {
        "id": "Ttr2UHq4mUIx"
      },
      "execution_count": null,
      "outputs": []
    },
    {
      "cell_type": "code",
      "source": [
        "movefile(des1,des_path_)\n",
        "movefile(des2,des_path_)\n",
        "movefile(des3,des_path_)\n",
        "movefile(des4,des_path_)\n",
        "movefile(des5,des_path_)"
      ],
      "metadata": {
        "id": "uE7fRANImztS"
      },
      "execution_count": null,
      "outputs": []
    },
    {
      "cell_type": "code",
      "source": [
        "len(os.listdir(des_path_))"
      ],
      "metadata": {
        "colab": {
          "base_uri": "https://localhost:8080/"
        },
        "id": "S7veHCtMsS1-",
        "outputId": "25fbbaea-0c51-465b-ef54-f7eb87214d38"
      },
      "execution_count": null,
      "outputs": [
        {
          "output_type": "execute_result",
          "data": {
            "text/plain": [
              "4966"
            ]
          },
          "metadata": {},
          "execution_count": 147
        }
      ]
    },
    {
      "cell_type": "code",
      "source": [
        "def moveimgfile(image_src,masks_src,image_des):\n",
        "    for img_, mask in zip(os.listdir(image_src),os.listdir(masks_src)):\n",
        "        name = mask.split('.')[0]\n",
        "        image_name = name + '.jpg'\n",
        "        img_ = image_name\n",
        "        # print(img_)\n",
        "        shutil.copy(image_src+img_,image_des+img_)"
      ],
      "metadata": {
        "id": "zY5XKtlRsoji"
      },
      "execution_count": null,
      "outputs": []
    },
    {
      "cell_type": "code",
      "source": [
        "!mv /content/Sum_labels /content/Multi_512x512_SumLabels_4966"
      ],
      "metadata": {
        "id": "lU6aLSautz5L"
      },
      "execution_count": null,
      "outputs": []
    },
    {
      "cell_type": "code",
      "source": [
        "from google.colab import drive\n",
        "drive.mount('/content/drive')"
      ],
      "metadata": {
        "colab": {
          "base_uri": "https://localhost:8080/"
        },
        "id": "KAHd0S-E1R4b",
        "outputId": "be72956c-531f-4e11-d879-c8b7a05d508d"
      },
      "execution_count": null,
      "outputs": [
        {
          "output_type": "stream",
          "name": "stdout",
          "text": [
            "Mounted at /content/drive\n"
          ]
        }
      ]
    },
    {
      "cell_type": "code",
      "source": [
        "!zip Multi_512x512_SumLabels_4966.zip -r ./Multi_512x512_SumLabels_4966"
      ],
      "metadata": {
        "id": "mNh2SOtB1YCs"
      },
      "execution_count": null,
      "outputs": []
    },
    {
      "cell_type": "code",
      "source": [
        "!mv /content/Multi_512x512_SumLabels_4966.zip /content/drive/MyDrive/data/MMSeg_zip"
      ],
      "metadata": {
        "id": "ERRFYCy01ie_"
      },
      "execution_count": null,
      "outputs": []
    },
    {
      "cell_type": "code",
      "source": [
        "!mkdir /content/Convert_512x512_Multi_351/background"
      ],
      "metadata": {
        "id": "YacyfEc28Qxz"
      },
      "execution_count": null,
      "outputs": []
    },
    {
      "cell_type": "code",
      "source": [
        "src='/content/Convert_512x512_Multi_351/labels/'\n",
        "des='/content/Convert_512x512_Multi_351/background/'\n",
        "sum_label(src,des,0)"
      ],
      "metadata": {
        "colab": {
          "base_uri": "https://localhost:8080/",
          "height": 49,
          "referenced_widgets": [
            "5a90cb52990b4c458dad02d7a89a8870",
            "cfd1d84cd8b9428b981376380f99d506",
            "676fc5839cd9429b91515a50df7f372f",
            "42c53442ccad4f70abd13f15f6ff15e3",
            "d54e2df31cb94be7a7eca8c3ac8a8208",
            "45552c04de3a44e3bbac8ee3cff9b798",
            "36d1a236229844c5b1276ee062d24f53",
            "530783ea69d2451cb6aecbd05d187e9c",
            "03334e22c12345e9972198045bd99f71",
            "d6ebfa8be5b74e1181b788fb3fa31f42",
            "fadeafd63712481cac282d00c4fc1094"
          ]
        },
        "id": "hT8IWPbi8Nug",
        "outputId": "0f39c537-4b87-46cb-a8d3-e7ce6bcfd1e0"
      },
      "execution_count": null,
      "outputs": [
        {
          "output_type": "display_data",
          "data": {
            "text/plain": [
              "  0%|          | 0/2895 [00:00<?, ?it/s]"
            ],
            "application/vnd.jupyter.widget-view+json": {
              "version_major": 2,
              "version_minor": 0,
              "model_id": "5a90cb52990b4c458dad02d7a89a8870"
            }
          },
          "metadata": {}
        }
      ]
    },
    {
      "cell_type": "code",
      "source": [
        "len(os.listdir(des))"
      ],
      "metadata": {
        "colab": {
          "base_uri": "https://localhost:8080/"
        },
        "id": "a1thGmzS9ewd",
        "outputId": "8e3f370a-93ed-4fa6-9db8-9f800e9f6ab0"
      },
      "execution_count": null,
      "outputs": [
        {
          "output_type": "execute_result",
          "data": {
            "text/plain": [
              "1010"
            ]
          },
          "metadata": {},
          "execution_count": 173
        }
      ]
    },
    {
      "cell_type": "code",
      "source": [
        "image_src='/content/Convert_512x512_Multi_351/images/'\n",
        "masks_src='/content/Convert_512x512_Multi_351/background/'\n",
        "image_des='/content/Multi_512x512_SumLabels_4966/images/'\n",
        "moveimgfile(image_src,masks_src,image_des)"
      ],
      "metadata": {
        "id": "0-gSqIGA9lOn"
      },
      "execution_count": null,
      "outputs": []
    },
    {
      "cell_type": "code",
      "source": [
        "movefile(masks_src,'/content/Multi_512x512_SumLabels_4966/labels')"
      ],
      "metadata": {
        "id": "ADQqvEW199v4"
      },
      "execution_count": null,
      "outputs": []
    },
    {
      "cell_type": "code",
      "source": [
        "len(os.listdir(image_des)),len(os.listdir('/content/Multi_512x512_SumLabels_4966/labels'))"
      ],
      "metadata": {
        "colab": {
          "base_uri": "https://localhost:8080/"
        },
        "id": "NHxrQgYl-VIi",
        "outputId": "cfe6fd0d-4e0b-48c0-eff1-4338b131457b"
      },
      "execution_count": null,
      "outputs": [
        {
          "output_type": "execute_result",
          "data": {
            "text/plain": [
              "(5976, 5976)"
            ]
          },
          "metadata": {},
          "execution_count": 176
        }
      ]
    },
    {
      "cell_type": "code",
      "source": [
        "!mv /content/Multi_512x512_SumLabels_4966 /content/Multi_512x512_SumLabels_containBG"
      ],
      "metadata": {
        "id": "hhFaPD3B-bDM"
      },
      "execution_count": null,
      "outputs": []
    },
    {
      "cell_type": "code",
      "source": [
        "!mv /content/Multi_512x512_SumLabels_containBG /content/Multi_512x512_SumLabels_containBG_5976"
      ],
      "metadata": {
        "id": "SkB3IgHD-q8g"
      },
      "execution_count": null,
      "outputs": []
    },
    {
      "cell_type": "code",
      "source": [
        "!zip Multi_512x512_SumLabels_containBG_5976.zip -r ./Multi_512x512_SumLabels_containBG_5976"
      ],
      "metadata": {
        "id": "jJD8MCjK-w8A"
      },
      "execution_count": null,
      "outputs": []
    },
    {
      "cell_type": "code",
      "source": [
        "!mv /content/Multi_512x512_SumLabels_containBG_5976.zip /content/drive/MyDrive/data/MMSeg_zip"
      ],
      "metadata": {
        "id": "KoCbVYaF-8Wc"
      },
      "execution_count": null,
      "outputs": []
    },
    {
      "cell_type": "markdown",
      "source": [
        "## 바이너리 데이터셋 2048x2048 -> 256x256 crop"
      ],
      "metadata": {
        "id": "b03Bfa9I6DTQ"
      }
    },
    {
      "cell_type": "code",
      "source": [
        "!gdown \n",
        "!unzip /content/Crop_2048x2048_Binary.zip"
      ],
      "metadata": {
        "id": "YC7jM0L06I11"
      },
      "execution_count": null,
      "outputs": []
    },
    {
      "cell_type": "code",
      "source": [
        "!mkdir Crop_256x256_Binary\n",
        "!mkdir /content/Crop_256x256_Binary/images\n",
        "!mkdir /content/Crop_256x256_Binary/labels"
      ],
      "metadata": {
        "id": "yGUS9JHT612O"
      },
      "execution_count": null,
      "outputs": []
    },
    {
      "cell_type": "code",
      "source": [
        "!mv /content/crop_dataset/images /content/crop_dataset/images_jpg\n",
        "!mkdir /content/crop_dataset/images"
      ],
      "metadata": {
        "id": "NiBLkDaP9daW"
      },
      "execution_count": null,
      "outputs": []
    },
    {
      "cell_type": "code",
      "source": [
        "jpg_src='/content/crop_dataset/images_jpg/'\n",
        "png_des='/content/crop_dataset/images/'"
      ],
      "metadata": {
        "id": "uQBbJIHM9uZl"
      },
      "execution_count": null,
      "outputs": []
    },
    {
      "cell_type": "code",
      "source": [
        "!rm -rf /content/crop_dataset/images\n",
        "!mkdir /content/crop_dataset/images"
      ],
      "metadata": {
        "id": "5S7uFavb-su2"
      },
      "execution_count": null,
      "outputs": []
    },
    {
      "cell_type": "code",
      "source": [
        "from google.colab import drive\n",
        "drive.mount('/content/drive')"
      ],
      "metadata": {
        "colab": {
          "base_uri": "https://localhost:8080/"
        },
        "id": "XStj076U-6ZW",
        "outputId": "1defd3cd-e56e-4cd5-ae37-29bf402bd3cf"
      },
      "execution_count": null,
      "outputs": [
        {
          "output_type": "stream",
          "name": "stdout",
          "text": [
            "Mounted at /content/drive\n"
          ]
        }
      ]
    },
    {
      "cell_type": "code",
      "source": [
        "import os\n",
        "import numpy as np\n",
        "from PIL import Image\n",
        "from itertools import product"
      ],
      "metadata": {
        "id": "JBBOCR9Z91Nu"
      },
      "execution_count": null,
      "outputs": []
    },
    {
      "cell_type": "code",
      "source": [
        "for jpg in os.listdir(jpg_src):\n",
        "    dir=os.path.join(jpg_src,jpg)\n",
        "    jpg2png=Image.open(dir)\n",
        "    jpg2png.save(png_des+jpg[:-4]+'.png')"
      ],
      "metadata": {
        "id": "MTK2YMQ198Fe"
      },
      "execution_count": null,
      "outputs": []
    },
    {
      "cell_type": "code",
      "source": [
        "bi_src='/content/crop_dataset/images/'\n",
        "bi_des='/content/Crop_256x256_Binary/images/'"
      ],
      "metadata": {
        "id": "15l1mQxX6mmk"
      },
      "execution_count": null,
      "outputs": []
    },
    {
      "cell_type": "code",
      "source": [
        "bi_mask_src='/content/crop_dataset/labels/'\n",
        "bi_mask_des='/content/Crop_256x256_Binary/labels/'"
      ],
      "metadata": {
        "id": "EJ0I1YHr7PXD"
      },
      "execution_count": null,
      "outputs": []
    },
    {
      "cell_type": "code",
      "source": [
        "def crop_img(src,des,d):  \n",
        "    for img in os.listdir(src):\n",
        "        name = img.split('.')[0]\n",
        "        img_dir=os.path.join(src,img)\n",
        "        img_crop=Image.open(img_dir)\n",
        "        w,h = img_crop.size\n",
        "        \n",
        "        points = product(range(0, h-h%d, d), range(0, w-w%d, d))\n",
        "        for x, y in points:\n",
        "            box = (y, x, y+d, x+d)\n",
        "            out = os.path.join(des, f'{name}_{x}_{y}.png')\n",
        "            img_crop.crop(box).save(out)"
      ],
      "metadata": {
        "id": "RIvr0US27fU0"
      },
      "execution_count": null,
      "outputs": []
    },
    {
      "cell_type": "code",
      "source": [
        "crop_img(bi_src,bi_des,256)"
      ],
      "metadata": {
        "id": "YpAqFaNZ7tu7"
      },
      "execution_count": null,
      "outputs": []
    },
    {
      "cell_type": "code",
      "source": [
        "crop_img(bi_mask_src,bi_mask_des,256)"
      ],
      "metadata": {
        "id": "Z__UXSOP78rp"
      },
      "execution_count": null,
      "outputs": []
    },
    {
      "cell_type": "code",
      "source": [
        "len(os.listdir(bi_des)),len(os.listdir(bi_mask_des))"
      ],
      "metadata": {
        "colab": {
          "base_uri": "https://localhost:8080/"
        },
        "id": "D_9pHeWM8CYg",
        "outputId": "2ff6d94c-0e68-4f11-cd9d-c17976842012"
      },
      "execution_count": null,
      "outputs": [
        {
          "output_type": "execute_result",
          "data": {
            "text/plain": [
              "(22464, 22464)"
            ]
          },
          "metadata": {},
          "execution_count": 19
        }
      ]
    },
    {
      "cell_type": "code",
      "source": [
        "!zip Crop_256x256_Binary0824.zip -r ./Crop_256x256_Binary"
      ],
      "metadata": {
        "id": "KbJ4_d2D8JaH"
      },
      "execution_count": null,
      "outputs": []
    },
    {
      "cell_type": "code",
      "source": [
        "import shutil\n",
        "filename='Crop_256x256_Binary0824.zip'\n",
        "src='/content/'\n",
        "des='/content/drive/MyDrive/Colab Notebooks/Team_1. CODEnter [ Save Form : FileName_Date ]/3. 공모전/참고/Dataset/Binary/'\n",
        "shutil.move(src+filename,des+filename)"
      ],
      "metadata": {
        "colab": {
          "base_uri": "https://localhost:8080/",
          "height": 35
        },
        "id": "UgC0Phux_ld9",
        "outputId": "ce7a2dae-8a41-44ea-c8f4-851c07de17da"
      },
      "execution_count": null,
      "outputs": [
        {
          "output_type": "execute_result",
          "data": {
            "text/plain": [
              "'/content/drive/MyDrive/Colab Notebooks/Team_1. CODEnter [ Save Form : FileName_Date ]/3. 공모전/참고/Dataset/Binary/Crop_256x256_Binary0824.zip'"
            ],
            "application/vnd.google.colaboratory.intrinsic+json": {
              "type": "string"
            }
          },
          "metadata": {},
          "execution_count": 21
        }
      ]
    },
    {
      "cell_type": "code",
      "source": [],
      "metadata": {
        "id": "ZuPCYqo8_-F9"
      },
      "execution_count": null,
      "outputs": []
    }
  ]
}